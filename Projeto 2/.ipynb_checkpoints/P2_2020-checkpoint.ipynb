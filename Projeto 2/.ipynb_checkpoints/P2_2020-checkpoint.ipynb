{
 "cells": [
  {
   "cell_type": "code",
   "execution_count": 38,
   "metadata": {},
   "outputs": [],
   "source": [
    "import pandas as pd\n",
    "import numpy as np\n",
    "from IPython.display import display\n",
    "from sklearn.model_selection import train_test_split\n",
    "from sklearn.ensemble import RandomForestClassifier\n",
    "from sklearn.ensemble import AdaBoostClassifier"
   ]
  },
  {
   "cell_type": "markdown",
   "metadata": {},
   "source": [
    "### Entrega 10/11 - Dataset lido\n",
    "Mínimo esperado: um arquivo do jupyter notebook (.ipynb) com o\n",
    "código que lê o dataset (que também deve ser enviado no git) e realiza limpeza e manipulações necessárias no dataset."
   ]
  },
  {
   "cell_type": "code",
   "execution_count": 58,
   "metadata": {},
   "outputs": [
    {
     "name": "stdout",
     "output_type": "stream",
     "text": [
      "(300, 36)\n",
      "(300, 57)\n"
     ]
    },
    {
     "data": {
      "text/html": [
       "<div>\n",
       "<style scoped>\n",
       "    .dataframe tbody tr th:only-of-type {\n",
       "        vertical-align: middle;\n",
       "    }\n",
       "\n",
       "    .dataframe tbody tr th {\n",
       "        vertical-align: top;\n",
       "    }\n",
       "\n",
       "    .dataframe thead th {\n",
       "        text-align: right;\n",
       "    }\n",
       "</style>\n",
       "<table border=\"1\" class=\"dataframe\">\n",
       "  <thead>\n",
       "    <tr style=\"text-align: right;\">\n",
       "      <th></th>\n",
       "      <th>breakfast</th>\n",
       "      <th>afternoon.tea</th>\n",
       "      <th>evening</th>\n",
       "      <th>after.lunch</th>\n",
       "      <th>after.dinner</th>\n",
       "      <th>anytime</th>\n",
       "      <th>home</th>\n",
       "      <th>work</th>\n",
       "      <th>tearoom</th>\n",
       "      <th>friends</th>\n",
       "      <th>...</th>\n",
       "      <th>profession_management</th>\n",
       "      <th>profession_manual labourer</th>\n",
       "      <th>profession_other work</th>\n",
       "      <th>profession_senior management</th>\n",
       "      <th>profession_student</th>\n",
       "      <th>profession_unemployed</th>\n",
       "      <th>frequency_1 to 2/week</th>\n",
       "      <th>frequency_1/day</th>\n",
       "      <th>frequency_3 to 6/week</th>\n",
       "      <th>frequency_more than 2/day</th>\n",
       "    </tr>\n",
       "  </thead>\n",
       "  <tbody>\n",
       "    <tr>\n",
       "      <th>0</th>\n",
       "      <td>False</td>\n",
       "      <td>False</td>\n",
       "      <td>False</td>\n",
       "      <td>False</td>\n",
       "      <td>True</td>\n",
       "      <td>False</td>\n",
       "      <td>True</td>\n",
       "      <td>False</td>\n",
       "      <td>False</td>\n",
       "      <td>False</td>\n",
       "      <td>...</td>\n",
       "      <td>0</td>\n",
       "      <td>0</td>\n",
       "      <td>0</td>\n",
       "      <td>0</td>\n",
       "      <td>1</td>\n",
       "      <td>0</td>\n",
       "      <td>0</td>\n",
       "      <td>1</td>\n",
       "      <td>0</td>\n",
       "      <td>0</td>\n",
       "    </tr>\n",
       "    <tr>\n",
       "      <th>1</th>\n",
       "      <td>False</td>\n",
       "      <td>False</td>\n",
       "      <td>False</td>\n",
       "      <td>False</td>\n",
       "      <td>True</td>\n",
       "      <td>False</td>\n",
       "      <td>True</td>\n",
       "      <td>False</td>\n",
       "      <td>False</td>\n",
       "      <td>False</td>\n",
       "      <td>...</td>\n",
       "      <td>0</td>\n",
       "      <td>0</td>\n",
       "      <td>0</td>\n",
       "      <td>0</td>\n",
       "      <td>1</td>\n",
       "      <td>0</td>\n",
       "      <td>0</td>\n",
       "      <td>1</td>\n",
       "      <td>0</td>\n",
       "      <td>0</td>\n",
       "    </tr>\n",
       "    <tr>\n",
       "      <th>2</th>\n",
       "      <td>False</td>\n",
       "      <td>False</td>\n",
       "      <td>False</td>\n",
       "      <td>False</td>\n",
       "      <td>False</td>\n",
       "      <td>True</td>\n",
       "      <td>True</td>\n",
       "      <td>False</td>\n",
       "      <td>False</td>\n",
       "      <td>True</td>\n",
       "      <td>...</td>\n",
       "      <td>0</td>\n",
       "      <td>0</td>\n",
       "      <td>0</td>\n",
       "      <td>0</td>\n",
       "      <td>0</td>\n",
       "      <td>1</td>\n",
       "      <td>0</td>\n",
       "      <td>0</td>\n",
       "      <td>0</td>\n",
       "      <td>1</td>\n",
       "    </tr>\n",
       "    <tr>\n",
       "      <th>3</th>\n",
       "      <td>False</td>\n",
       "      <td>False</td>\n",
       "      <td>False</td>\n",
       "      <td>False</td>\n",
       "      <td>False</td>\n",
       "      <td>True</td>\n",
       "      <td>True</td>\n",
       "      <td>False</td>\n",
       "      <td>False</td>\n",
       "      <td>False</td>\n",
       "      <td>...</td>\n",
       "      <td>1</td>\n",
       "      <td>0</td>\n",
       "      <td>0</td>\n",
       "      <td>0</td>\n",
       "      <td>0</td>\n",
       "      <td>0</td>\n",
       "      <td>0</td>\n",
       "      <td>0</td>\n",
       "      <td>0</td>\n",
       "      <td>1</td>\n",
       "    </tr>\n",
       "    <tr>\n",
       "      <th>4</th>\n",
       "      <td>False</td>\n",
       "      <td>False</td>\n",
       "      <td>False</td>\n",
       "      <td>False</td>\n",
       "      <td>False</td>\n",
       "      <td>True</td>\n",
       "      <td>True</td>\n",
       "      <td>True</td>\n",
       "      <td>True</td>\n",
       "      <td>True</td>\n",
       "      <td>...</td>\n",
       "      <td>1</td>\n",
       "      <td>0</td>\n",
       "      <td>0</td>\n",
       "      <td>0</td>\n",
       "      <td>0</td>\n",
       "      <td>0</td>\n",
       "      <td>0</td>\n",
       "      <td>0</td>\n",
       "      <td>0</td>\n",
       "      <td>1</td>\n",
       "    </tr>\n",
       "  </tbody>\n",
       "</table>\n",
       "<p>5 rows × 57 columns</p>\n",
       "</div>"
      ],
      "text/plain": [
       "   breakfast  afternoon.tea  evening  after.lunch  after.dinner  anytime  \\\n",
       "0      False          False    False        False          True    False   \n",
       "1      False          False    False        False          True    False   \n",
       "2      False          False    False        False         False     True   \n",
       "3      False          False    False        False         False     True   \n",
       "4      False          False    False        False         False     True   \n",
       "\n",
       "   home   work  tearoom  friends  ...  profession_management  \\\n",
       "0  True  False    False    False  ...                      0   \n",
       "1  True  False    False    False  ...                      0   \n",
       "2  True  False    False     True  ...                      0   \n",
       "3  True  False    False    False  ...                      1   \n",
       "4  True   True     True     True  ...                      1   \n",
       "\n",
       "   profession_manual labourer  profession_other work  \\\n",
       "0                           0                      0   \n",
       "1                           0                      0   \n",
       "2                           0                      0   \n",
       "3                           0                      0   \n",
       "4                           0                      0   \n",
       "\n",
       "   profession_senior management  profession_student  profession_unemployed  \\\n",
       "0                             0                   1                      0   \n",
       "1                             0                   1                      0   \n",
       "2                             0                   0                      1   \n",
       "3                             0                   0                      0   \n",
       "4                             0                   0                      0   \n",
       "\n",
       "   frequency_1 to 2/week  frequency_1/day  frequency_3 to 6/week  \\\n",
       "0                      0                1                      0   \n",
       "1                      0                1                      0   \n",
       "2                      0                0                      0   \n",
       "3                      0                0                      0   \n",
       "4                      0                0                      0   \n",
       "\n",
       "   frequency_more than 2/day  \n",
       "0                          0  \n",
       "1                          0  \n",
       "2                          1  \n",
       "3                          1  \n",
       "4                          1  \n",
       "\n",
       "[5 rows x 57 columns]"
      ]
     },
     "execution_count": 58,
     "metadata": {},
     "output_type": "execute_result"
    }
   ],
   "source": [
    "data_og = pd.read_excel(\"tea.xlsx\")\n",
    "print(data_og.shape)\n",
    "\n",
    "data = data_og\n",
    "data = data.drop(labels = \"age_Q\", axis = 1)\n",
    "data = pd.get_dummies(data)\n",
    "\n",
    "print(data.shape)\n",
    "data.head()"
   ]
  },
  {
   "cell_type": "markdown",
   "metadata": {},
   "source": [
    "### Entrega 15/11 - Dataset lido e análise exploratória feita\n",
    "Mínimo esperado: um arquivo do jupyter notebook (.ipynb) com o\n",
    "código que lê o dataset (que também deve ser enviado no git) e faz uma análise exploratória inicial."
   ]
  },
  {
   "cell_type": "code",
   "execution_count": 3,
   "metadata": {
    "scrolled": true
   },
   "outputs": [
    {
     "name": "stdout",
     "output_type": "stream",
     "text": [
      "----------------------------------------breakfast---------------------------------------- - "
     ]
    },
    {
     "data": {
      "text/plain": [
       "False    156\n",
       "True     144\n",
       "Name: breakfast, dtype: int64"
      ]
     },
     "metadata": {},
     "output_type": "display_data"
    },
    {
     "name": "stdout",
     "output_type": "stream",
     "text": [
      "----------------------------------------afternoon.tea---------------------------------------- - "
     ]
    },
    {
     "data": {
      "text/plain": [
       "True     169\n",
       "False    131\n",
       "Name: afternoon.tea, dtype: int64"
      ]
     },
     "metadata": {},
     "output_type": "display_data"
    },
    {
     "name": "stdout",
     "output_type": "stream",
     "text": [
      "----------------------------------------evening---------------------------------------- - "
     ]
    },
    {
     "data": {
      "text/plain": [
       "False    197\n",
       "True     103\n",
       "Name: evening, dtype: int64"
      ]
     },
     "metadata": {},
     "output_type": "display_data"
    },
    {
     "name": "stdout",
     "output_type": "stream",
     "text": [
      "----------------------------------------after.lunch---------------------------------------- - "
     ]
    },
    {
     "data": {
      "text/plain": [
       "False    256\n",
       "True      44\n",
       "Name: after.lunch, dtype: int64"
      ]
     },
     "metadata": {},
     "output_type": "display_data"
    },
    {
     "name": "stdout",
     "output_type": "stream",
     "text": [
      "----------------------------------------after.dinner---------------------------------------- - "
     ]
    },
    {
     "data": {
      "text/plain": [
       "False    279\n",
       "True      21\n",
       "Name: after.dinner, dtype: int64"
      ]
     },
     "metadata": {},
     "output_type": "display_data"
    },
    {
     "name": "stdout",
     "output_type": "stream",
     "text": [
      "----------------------------------------anytime---------------------------------------- - "
     ]
    },
    {
     "data": {
      "text/plain": [
       "False    197\n",
       "True     103\n",
       "Name: anytime, dtype: int64"
      ]
     },
     "metadata": {},
     "output_type": "display_data"
    },
    {
     "name": "stdout",
     "output_type": "stream",
     "text": [
      "----------------------------------------home---------------------------------------- - "
     ]
    },
    {
     "data": {
      "text/plain": [
       "True     291\n",
       "False      9\n",
       "Name: home, dtype: int64"
      ]
     },
     "metadata": {},
     "output_type": "display_data"
    },
    {
     "name": "stdout",
     "output_type": "stream",
     "text": [
      "----------------------------------------work---------------------------------------- - "
     ]
    },
    {
     "data": {
      "text/plain": [
       "False    213\n",
       "True      87\n",
       "Name: work, dtype: int64"
      ]
     },
     "metadata": {},
     "output_type": "display_data"
    },
    {
     "name": "stdout",
     "output_type": "stream",
     "text": [
      "----------------------------------------tearoom---------------------------------------- - "
     ]
    },
    {
     "data": {
      "text/plain": [
       "False    242\n",
       "True      58\n",
       "Name: tearoom, dtype: int64"
      ]
     },
     "metadata": {},
     "output_type": "display_data"
    },
    {
     "name": "stdout",
     "output_type": "stream",
     "text": [
      "----------------------------------------friends---------------------------------------- - "
     ]
    },
    {
     "data": {
      "text/plain": [
       "True     196\n",
       "False    104\n",
       "Name: friends, dtype: int64"
      ]
     },
     "metadata": {},
     "output_type": "display_data"
    },
    {
     "name": "stdout",
     "output_type": "stream",
     "text": [
      "----------------------------------------restaurant---------------------------------------- - "
     ]
    },
    {
     "data": {
      "text/plain": [
       "False    221\n",
       "True      79\n",
       "Name: restaurant, dtype: int64"
      ]
     },
     "metadata": {},
     "output_type": "display_data"
    },
    {
     "name": "stdout",
     "output_type": "stream",
     "text": [
      "----------------------------------------pub---------------------------------------- - "
     ]
    },
    {
     "data": {
      "text/plain": [
       "False    237\n",
       "True      63\n",
       "Name: pub, dtype: int64"
      ]
     },
     "metadata": {},
     "output_type": "display_data"
    },
    {
     "name": "stdout",
     "output_type": "stream",
     "text": [
      "----------------------------------------variety---------------------------------------- - "
     ]
    },
    {
     "data": {
      "text/plain": [
       "1    193\n",
       "2     74\n",
       "3     33\n",
       "Name: variety, dtype: int64"
      ]
     },
     "metadata": {},
     "output_type": "display_data"
    },
    {
     "name": "stdout",
     "output_type": "stream",
     "text": [
      "----------------------------------------how---------------------------------------- - "
     ]
    },
    {
     "data": {
      "text/plain": [
       "nothing.added    195\n",
       "milk              63\n",
       "lemon             33\n",
       "other              9\n",
       "Name: how, dtype: int64"
      ]
     },
     "metadata": {},
     "output_type": "display_data"
    },
    {
     "name": "stdout",
     "output_type": "stream",
     "text": [
      "----------------------------------------sugar---------------------------------------- - "
     ]
    },
    {
     "data": {
      "text/plain": [
       "False    155\n",
       "True     145\n",
       "Name: sugar, dtype: int64"
      ]
     },
     "metadata": {},
     "output_type": "display_data"
    },
    {
     "name": "stdout",
     "output_type": "stream",
     "text": [
      "----------------------------------------format---------------------------------------- - "
     ]
    },
    {
     "data": {
      "text/plain": [
       "sachet          170\n",
       "sachet+loose     94\n",
       "loose            36\n",
       "Name: format, dtype: int64"
      ]
     },
     "metadata": {},
     "output_type": "display_data"
    },
    {
     "name": "stdout",
     "output_type": "stream",
     "text": [
      "----------------------------------------place.of.purchase---------------------------------------- - "
     ]
    },
    {
     "data": {
      "text/plain": [
       "supermarket                192\n",
       "supermarket+specialist.     78\n",
       "specialist.shop             30\n",
       "Name: place.of.purchase, dtype: int64"
      ]
     },
     "metadata": {},
     "output_type": "display_data"
    },
    {
     "name": "stdout",
     "output_type": "stream",
     "text": [
      "----------------------------------------type---------------------------------------- - "
     ]
    },
    {
     "data": {
      "text/plain": [
       "varies         112\n",
       "known.brand     95\n",
       "luxury          53\n",
       "shop.brand      21\n",
       "unknown         12\n",
       "cheapest         7\n",
       "Name: type, dtype: int64"
      ]
     },
     "metadata": {},
     "output_type": "display_data"
    },
    {
     "name": "stdout",
     "output_type": "stream",
     "text": [
      "----------------------------------------sex---------------------------------------- - "
     ]
    },
    {
     "data": {
      "text/plain": [
       "F    178\n",
       "M    122\n",
       "Name: sex, dtype: int64"
      ]
     },
     "metadata": {},
     "output_type": "display_data"
    },
    {
     "name": "stdout",
     "output_type": "stream",
     "text": [
      "----------------------------------------profession---------------------------------------- - "
     ]
    },
    {
     "data": {
      "text/plain": [
       "student              70\n",
       "unemployed           64\n",
       "employee             59\n",
       "management           40\n",
       "senior management    35\n",
       "other work           20\n",
       "manual labourer      12\n",
       "Name: profession, dtype: int64"
      ]
     },
     "metadata": {},
     "output_type": "display_data"
    },
    {
     "name": "stdout",
     "output_type": "stream",
     "text": [
      "----------------------------------------sport---------------------------------------- - "
     ]
    },
    {
     "data": {
      "text/plain": [
       "True     179\n",
       "False    121\n",
       "Name: sport, dtype: int64"
      ]
     },
     "metadata": {},
     "output_type": "display_data"
    },
    {
     "name": "stdout",
     "output_type": "stream",
     "text": [
      "----------------------------------------age---------------------------------------- - "
     ]
    },
    {
     "data": {
      "text/plain": [
       "21    20\n",
       "22    18\n",
       "25    16\n",
       "20    12\n",
       "23    12\n",
       "      ..\n",
       "68     1\n",
       "62     1\n",
       "89     1\n",
       "43     1\n",
       "90     1\n",
       "Name: age, Length: 61, dtype: int64"
      ]
     },
     "metadata": {},
     "output_type": "display_data"
    },
    {
     "name": "stdout",
     "output_type": "stream",
     "text": [
      "----------------------------------------age_Q---------------------------------------- - "
     ]
    },
    {
     "data": {
      "text/plain": [
       "15-24       92\n",
       "25-34       69\n",
       "45-59       61\n",
       "35-44       40\n",
       "60 and +    38\n",
       "Name: age_Q, dtype: int64"
      ]
     },
     "metadata": {},
     "output_type": "display_data"
    },
    {
     "name": "stdout",
     "output_type": "stream",
     "text": [
      "----------------------------------------frequency---------------------------------------- - "
     ]
    },
    {
     "data": {
      "text/plain": [
       "more than 2/day    127\n",
       "1/day               95\n",
       "1 to 2/week         44\n",
       "3 to 6/week         34\n",
       "Name: frequency, dtype: int64"
      ]
     },
     "metadata": {},
     "output_type": "display_data"
    },
    {
     "name": "stdout",
     "output_type": "stream",
     "text": [
      "----------------------------------------exotic---------------------------------------- - "
     ]
    },
    {
     "data": {
      "text/plain": [
       "False    158\n",
       "True     142\n",
       "Name: exotic, dtype: int64"
      ]
     },
     "metadata": {},
     "output_type": "display_data"
    },
    {
     "name": "stdout",
     "output_type": "stream",
     "text": [
      "----------------------------------------spirituality---------------------------------------- - "
     ]
    },
    {
     "data": {
      "text/plain": [
       "False    206\n",
       "True      94\n",
       "Name: spirituality, dtype: int64"
      ]
     },
     "metadata": {},
     "output_type": "display_data"
    },
    {
     "name": "stdout",
     "output_type": "stream",
     "text": [
      "----------------------------------------good for health---------------------------------------- - "
     ]
    },
    {
     "data": {
      "text/plain": [
       "True     210\n",
       "False     90\n",
       "Name: good for health, dtype: int64"
      ]
     },
     "metadata": {},
     "output_type": "display_data"
    },
    {
     "name": "stdout",
     "output_type": "stream",
     "text": [
      "----------------------------------------diuretic---------------------------------------- - "
     ]
    },
    {
     "data": {
      "text/plain": [
       "True     174\n",
       "False    126\n",
       "Name: diuretic, dtype: int64"
      ]
     },
     "metadata": {},
     "output_type": "display_data"
    },
    {
     "name": "stdout",
     "output_type": "stream",
     "text": [
      "----------------------------------------friendliness---------------------------------------- - "
     ]
    },
    {
     "data": {
      "text/plain": [
       "True     242\n",
       "False     58\n",
       "Name: friendliness, dtype: int64"
      ]
     },
     "metadata": {},
     "output_type": "display_data"
    },
    {
     "name": "stdout",
     "output_type": "stream",
     "text": [
      "----------------------------------------iron absorption---------------------------------------- - "
     ]
    },
    {
     "data": {
      "text/plain": [
       "False    269\n",
       "True      31\n",
       "Name: iron absorption, dtype: int64"
      ]
     },
     "metadata": {},
     "output_type": "display_data"
    },
    {
     "name": "stdout",
     "output_type": "stream",
     "text": [
      "----------------------------------------feminine---------------------------------------- - "
     ]
    },
    {
     "data": {
      "text/plain": [
       "False    171\n",
       "True     129\n",
       "Name: feminine, dtype: int64"
      ]
     },
     "metadata": {},
     "output_type": "display_data"
    },
    {
     "name": "stdout",
     "output_type": "stream",
     "text": [
      "----------------------------------------refined---------------------------------------- - "
     ]
    },
    {
     "data": {
      "text/plain": [
       "True     215\n",
       "False     85\n",
       "Name: refined, dtype: int64"
      ]
     },
     "metadata": {},
     "output_type": "display_data"
    },
    {
     "name": "stdout",
     "output_type": "stream",
     "text": [
      "----------------------------------------slimming---------------------------------------- - "
     ]
    },
    {
     "data": {
      "text/plain": [
       "False    255\n",
       "True      45\n",
       "Name: slimming, dtype: int64"
      ]
     },
     "metadata": {},
     "output_type": "display_data"
    },
    {
     "name": "stdout",
     "output_type": "stream",
     "text": [
      "----------------------------------------stimulant---------------------------------------- - "
     ]
    },
    {
     "data": {
      "text/plain": [
       "False    184\n",
       "True     116\n",
       "Name: stimulant, dtype: int64"
      ]
     },
     "metadata": {},
     "output_type": "display_data"
    },
    {
     "name": "stdout",
     "output_type": "stream",
     "text": [
      "----------------------------------------relaxant---------------------------------------- - "
     ]
    },
    {
     "data": {
      "text/plain": [
       "True     187\n",
       "False    113\n",
       "Name: relaxant, dtype: int64"
      ]
     },
     "metadata": {},
     "output_type": "display_data"
    },
    {
     "name": "stdout",
     "output_type": "stream",
     "text": [
      "----------------------------------------no.effect.health---------------------------------------- - "
     ]
    },
    {
     "data": {
      "text/plain": [
       "True     234\n",
       "False     66\n",
       "Name: no.effect.health, dtype: int64"
      ]
     },
     "metadata": {},
     "output_type": "display_data"
    }
   ],
   "source": [
    "data = data.astype(\"category\")\n",
    "data_og = data_og.astype(\"category\")\n",
    "\n",
    "for col in data_og.columns:\n",
    "    print('-' * 40 + col + '-' * 40 , end=' - ')\n",
    "    display(data_og[col].value_counts())"
   ]
  },
  {
   "cell_type": "markdown",
   "metadata": {},
   "source": [
    "A variável target escolhida é \"Variety\" para descobrir qual é a preferência de tipo de chá consumido. As outras vão ser consideradas features. <br>\n",
    "Legenda: <br>\n",
    "<li> 1 - Flavoured;\n",
    "<li> 2 - Black;\n",
    "<li> 3 - Green."
   ]
  },
  {
   "cell_type": "code",
   "execution_count": 4,
   "metadata": {},
   "outputs": [
    {
     "data": {
      "text/html": [
       "<div>\n",
       "<style scoped>\n",
       "    .dataframe tbody tr th:only-of-type {\n",
       "        vertical-align: middle;\n",
       "    }\n",
       "\n",
       "    .dataframe tbody tr th {\n",
       "        vertical-align: top;\n",
       "    }\n",
       "\n",
       "    .dataframe thead th {\n",
       "        text-align: right;\n",
       "    }\n",
       "</style>\n",
       "<table border=\"1\" class=\"dataframe\">\n",
       "  <thead>\n",
       "    <tr style=\"text-align: right;\">\n",
       "      <th>age_Q</th>\n",
       "      <th>15-24</th>\n",
       "      <th>25-34</th>\n",
       "      <th>35-44</th>\n",
       "      <th>45-59</th>\n",
       "      <th>60 and +</th>\n",
       "    </tr>\n",
       "    <tr>\n",
       "      <th>variety</th>\n",
       "      <th></th>\n",
       "      <th></th>\n",
       "      <th></th>\n",
       "      <th></th>\n",
       "      <th></th>\n",
       "    </tr>\n",
       "  </thead>\n",
       "  <tbody>\n",
       "    <tr>\n",
       "      <th>1</th>\n",
       "      <td>77</td>\n",
       "      <td>48</td>\n",
       "      <td>21</td>\n",
       "      <td>34</td>\n",
       "      <td>13</td>\n",
       "    </tr>\n",
       "    <tr>\n",
       "      <th>2</th>\n",
       "      <td>11</td>\n",
       "      <td>11</td>\n",
       "      <td>16</td>\n",
       "      <td>18</td>\n",
       "      <td>18</td>\n",
       "    </tr>\n",
       "    <tr>\n",
       "      <th>3</th>\n",
       "      <td>4</td>\n",
       "      <td>10</td>\n",
       "      <td>3</td>\n",
       "      <td>9</td>\n",
       "      <td>7</td>\n",
       "    </tr>\n",
       "  </tbody>\n",
       "</table>\n",
       "</div>"
      ],
      "text/plain": [
       "age_Q    15-24  25-34  35-44  45-59  60 and +\n",
       "variety                                      \n",
       "1           77     48     21     34        13\n",
       "2           11     11     16     18        18\n",
       "3            4     10      3      9         7"
      ]
     },
     "execution_count": 4,
     "metadata": {},
     "output_type": "execute_result"
    }
   ],
   "source": [
    "pd.crosstab(data_og[\"variety\"], data_og[\"age_Q\"])"
   ]
  },
  {
   "cell_type": "code",
   "execution_count": 5,
   "metadata": {},
   "outputs": [
    {
     "data": {
      "text/html": [
       "<div>\n",
       "<style scoped>\n",
       "    .dataframe tbody tr th:only-of-type {\n",
       "        vertical-align: middle;\n",
       "    }\n",
       "\n",
       "    .dataframe tbody tr th {\n",
       "        vertical-align: top;\n",
       "    }\n",
       "\n",
       "    .dataframe thead th {\n",
       "        text-align: right;\n",
       "    }\n",
       "</style>\n",
       "<table border=\"1\" class=\"dataframe\">\n",
       "  <thead>\n",
       "    <tr style=\"text-align: right;\">\n",
       "      <th>profession</th>\n",
       "      <th>employee</th>\n",
       "      <th>management</th>\n",
       "      <th>manual labourer</th>\n",
       "      <th>other work</th>\n",
       "      <th>senior management</th>\n",
       "      <th>student</th>\n",
       "      <th>unemployed</th>\n",
       "    </tr>\n",
       "    <tr>\n",
       "      <th>variety</th>\n",
       "      <th></th>\n",
       "      <th></th>\n",
       "      <th></th>\n",
       "      <th></th>\n",
       "      <th></th>\n",
       "      <th></th>\n",
       "      <th></th>\n",
       "    </tr>\n",
       "  </thead>\n",
       "  <tbody>\n",
       "    <tr>\n",
       "      <th>1</th>\n",
       "      <td>38</td>\n",
       "      <td>23</td>\n",
       "      <td>9</td>\n",
       "      <td>11</td>\n",
       "      <td>22</td>\n",
       "      <td>58</td>\n",
       "      <td>32</td>\n",
       "    </tr>\n",
       "    <tr>\n",
       "      <th>2</th>\n",
       "      <td>15</td>\n",
       "      <td>13</td>\n",
       "      <td>1</td>\n",
       "      <td>5</td>\n",
       "      <td>9</td>\n",
       "      <td>9</td>\n",
       "      <td>22</td>\n",
       "    </tr>\n",
       "    <tr>\n",
       "      <th>3</th>\n",
       "      <td>6</td>\n",
       "      <td>4</td>\n",
       "      <td>2</td>\n",
       "      <td>4</td>\n",
       "      <td>4</td>\n",
       "      <td>3</td>\n",
       "      <td>10</td>\n",
       "    </tr>\n",
       "  </tbody>\n",
       "</table>\n",
       "</div>"
      ],
      "text/plain": [
       "profession  employee  management  manual labourer  other work  \\\n",
       "variety                                                         \n",
       "1                 38          23                9          11   \n",
       "2                 15          13                1           5   \n",
       "3                  6           4                2           4   \n",
       "\n",
       "profession  senior management  student  unemployed  \n",
       "variety                                             \n",
       "1                          22       58          32  \n",
       "2                           9        9          22  \n",
       "3                           4        3          10  "
      ]
     },
     "execution_count": 5,
     "metadata": {},
     "output_type": "execute_result"
    }
   ],
   "source": [
    "pd.crosstab(data_og[\"variety\"], data_og[\"profession\"])"
   ]
  },
  {
   "cell_type": "code",
   "execution_count": 6,
   "metadata": {},
   "outputs": [
    {
     "data": {
      "text/html": [
       "<div>\n",
       "<style scoped>\n",
       "    .dataframe tbody tr th:only-of-type {\n",
       "        vertical-align: middle;\n",
       "    }\n",
       "\n",
       "    .dataframe tbody tr th {\n",
       "        vertical-align: top;\n",
       "    }\n",
       "\n",
       "    .dataframe thead th {\n",
       "        text-align: right;\n",
       "    }\n",
       "</style>\n",
       "<table border=\"1\" class=\"dataframe\">\n",
       "  <thead>\n",
       "    <tr style=\"text-align: right;\">\n",
       "      <th>good for health</th>\n",
       "      <th>False</th>\n",
       "      <th>True</th>\n",
       "    </tr>\n",
       "    <tr>\n",
       "      <th>variety</th>\n",
       "      <th></th>\n",
       "      <th></th>\n",
       "    </tr>\n",
       "  </thead>\n",
       "  <tbody>\n",
       "    <tr>\n",
       "      <th>1</th>\n",
       "      <td>64</td>\n",
       "      <td>129</td>\n",
       "    </tr>\n",
       "    <tr>\n",
       "      <th>2</th>\n",
       "      <td>20</td>\n",
       "      <td>54</td>\n",
       "    </tr>\n",
       "    <tr>\n",
       "      <th>3</th>\n",
       "      <td>6</td>\n",
       "      <td>27</td>\n",
       "    </tr>\n",
       "  </tbody>\n",
       "</table>\n",
       "</div>"
      ],
      "text/plain": [
       "good for health  False  True\n",
       "variety                     \n",
       "1                   64   129\n",
       "2                   20    54\n",
       "3                    6    27"
      ]
     },
     "execution_count": 6,
     "metadata": {},
     "output_type": "execute_result"
    }
   ],
   "source": [
    "pd.crosstab(data_og[\"variety\"], data_og[\"good for health\"])"
   ]
  },
  {
   "cell_type": "code",
   "execution_count": 7,
   "metadata": {},
   "outputs": [
    {
     "data": {
      "text/html": [
       "<div>\n",
       "<style scoped>\n",
       "    .dataframe tbody tr th:only-of-type {\n",
       "        vertical-align: middle;\n",
       "    }\n",
       "\n",
       "    .dataframe tbody tr th {\n",
       "        vertical-align: top;\n",
       "    }\n",
       "\n",
       "    .dataframe thead th {\n",
       "        text-align: right;\n",
       "    }\n",
       "</style>\n",
       "<table border=\"1\" class=\"dataframe\">\n",
       "  <thead>\n",
       "    <tr style=\"text-align: right;\">\n",
       "      <th>how</th>\n",
       "      <th>lemon</th>\n",
       "      <th>milk</th>\n",
       "      <th>nothing.added</th>\n",
       "      <th>other</th>\n",
       "    </tr>\n",
       "    <tr>\n",
       "      <th>variety</th>\n",
       "      <th></th>\n",
       "      <th></th>\n",
       "      <th></th>\n",
       "      <th></th>\n",
       "    </tr>\n",
       "  </thead>\n",
       "  <tbody>\n",
       "    <tr>\n",
       "      <th>1</th>\n",
       "      <td>24</td>\n",
       "      <td>38</td>\n",
       "      <td>128</td>\n",
       "      <td>3</td>\n",
       "    </tr>\n",
       "    <tr>\n",
       "      <th>2</th>\n",
       "      <td>7</td>\n",
       "      <td>19</td>\n",
       "      <td>42</td>\n",
       "      <td>6</td>\n",
       "    </tr>\n",
       "    <tr>\n",
       "      <th>3</th>\n",
       "      <td>2</td>\n",
       "      <td>6</td>\n",
       "      <td>25</td>\n",
       "      <td>0</td>\n",
       "    </tr>\n",
       "  </tbody>\n",
       "</table>\n",
       "</div>"
      ],
      "text/plain": [
       "how      lemon  milk  nothing.added  other\n",
       "variety                                   \n",
       "1           24    38            128      3\n",
       "2            7    19             42      6\n",
       "3            2     6             25      0"
      ]
     },
     "execution_count": 7,
     "metadata": {},
     "output_type": "execute_result"
    }
   ],
   "source": [
    "pd.crosstab(data_og[\"variety\"], data_og[\"how\"])"
   ]
  },
  {
   "cell_type": "markdown",
   "metadata": {},
   "source": [
    "### Preparação dos dados\n",
    "Usando numpy, é possível separar o target dos features e simplificar o processo do algoritmo de machine learning escolhido."
   ]
  },
  {
   "cell_type": "code",
   "execution_count": 65,
   "metadata": {},
   "outputs": [],
   "source": [
    "target = np.array(data[\"variety\"])\n",
    "\n",
    "features = data.drop(\"variety\", axis = 1)\n",
    "\n",
    "feature_list = list(features.columns)\n",
    "\n",
    "features = np.array(features)"
   ]
  },
  {
   "cell_type": "markdown",
   "metadata": {},
   "source": [
    "### Separando dos dados em treinamento e teste"
   ]
  },
  {
   "cell_type": "code",
   "execution_count": 35,
   "metadata": {},
   "outputs": [],
   "source": [
    "trn_features, tst_features, trn_target, tst_target = train_test_split(features, target, test_size = 0.25)"
   ]
  },
  {
   "cell_type": "markdown",
   "metadata": {},
   "source": [
    "### Treinando o 1° modelo\n",
    "O primeiro modelo escolhido é o Random Forest"
   ]
  },
  {
   "cell_type": "code",
   "execution_count": 59,
   "metadata": {},
   "outputs": [],
   "source": [
    "# O modelo vai ser iniciado com 1000 árvores\n",
    "rf = RandomForestClassifier(n_estimators = 1000)\n",
    "\n",
    "rf.fit(trn_features, trn_target);"
   ]
  },
  {
   "cell_type": "markdown",
   "metadata": {},
   "source": [
    "### Testando o 1° modelo"
   ]
  },
  {
   "cell_type": "code",
   "execution_count": 60,
   "metadata": {},
   "outputs": [
    {
     "name": "stdout",
     "output_type": "stream",
     "text": [
      "Prediction prob: 33.33 %\n",
      "Mean Absolute Error: 37.330000000000005 %\n"
     ]
    },
    {
     "data": {
      "text/html": [
       "<div>\n",
       "<style scoped>\n",
       "    .dataframe tbody tr th:only-of-type {\n",
       "        vertical-align: middle;\n",
       "    }\n",
       "\n",
       "    .dataframe tbody tr th {\n",
       "        vertical-align: top;\n",
       "    }\n",
       "\n",
       "    .dataframe thead th {\n",
       "        text-align: right;\n",
       "    }\n",
       "</style>\n",
       "<table border=\"1\" class=\"dataframe\">\n",
       "  <thead>\n",
       "    <tr style=\"text-align: right;\">\n",
       "      <th>Predicted Preference</th>\n",
       "      <th>1</th>\n",
       "      <th>2</th>\n",
       "      <th>3</th>\n",
       "    </tr>\n",
       "    <tr>\n",
       "      <th>Actual Preference</th>\n",
       "      <th></th>\n",
       "      <th></th>\n",
       "      <th></th>\n",
       "    </tr>\n",
       "  </thead>\n",
       "  <tbody>\n",
       "    <tr>\n",
       "      <th>1</th>\n",
       "      <td>46</td>\n",
       "      <td>2</td>\n",
       "      <td>0</td>\n",
       "    </tr>\n",
       "    <tr>\n",
       "      <th>2</th>\n",
       "      <td>15</td>\n",
       "      <td>1</td>\n",
       "      <td>1</td>\n",
       "    </tr>\n",
       "    <tr>\n",
       "      <th>3</th>\n",
       "      <td>9</td>\n",
       "      <td>1</td>\n",
       "      <td>0</td>\n",
       "    </tr>\n",
       "  </tbody>\n",
       "</table>\n",
       "</div>"
      ],
      "text/plain": [
       "Predicted Preference   1  2  3\n",
       "Actual Preference             \n",
       "1                     46  2  0\n",
       "2                     15  1  1\n",
       "3                      9  1  0"
      ]
     },
     "execution_count": 60,
     "metadata": {},
     "output_type": "execute_result"
    }
   ],
   "source": [
    "# Probabilidade das previsões do modelo\n",
    "predictions_prob_rf = rf.predict_proba(tst_features)\n",
    "predictions_rf = rf.predict(tst_features)\n",
    "\n",
    "error_rf = 1 - rf.score(tst_features, tst_target, sample_weight=None)\n",
    "\n",
    "# Erro total de classificação\n",
    "print('Prediction prob:',round(np.mean(predictions_prob_rf),4)*100, \"%\")\n",
    "print('Mean Absolute Error:', round(error_rf,4)*100, \"%\")\n",
    "\n",
    "# Matriz de confusão\n",
    "pd.crosstab(tst_target, predictions_rf, rownames=['Actual Preference'], colnames=['Predicted Preference'])"
   ]
  },
  {
   "cell_type": "markdown",
   "metadata": {},
   "source": [
    "### Treinando o 2° modelo\n",
    "O segundo modelo escolhido é Boosting, continuando a usar árvores de decisão."
   ]
  },
  {
   "cell_type": "code",
   "execution_count": 56,
   "metadata": {},
   "outputs": [
    {
     "data": {
      "text/plain": [
       "AdaBoostClassifier(algorithm='SAMME', learning_rate=1, n_estimators=1000)"
      ]
     },
     "execution_count": 56,
     "metadata": {},
     "output_type": "execute_result"
    }
   ],
   "source": [
    "AdaBoost = AdaBoostClassifier(n_estimators = 1000, learning_rate = 1, algorithm = 'SAMME')\n",
    "\n",
    "AdaBoost.fit(trn_features, trn_target)\n"
   ]
  },
  {
   "cell_type": "markdown",
   "metadata": {},
   "source": [
    "### Testando o 2° modelo"
   ]
  },
  {
   "cell_type": "code",
   "execution_count": 57,
   "metadata": {},
   "outputs": [
    {
     "name": "stdout",
     "output_type": "stream",
     "text": [
      "Erro de classificação:  40.0 %\n"
     ]
    },
    {
     "data": {
      "text/html": [
       "<div>\n",
       "<style scoped>\n",
       "    .dataframe tbody tr th:only-of-type {\n",
       "        vertical-align: middle;\n",
       "    }\n",
       "\n",
       "    .dataframe tbody tr th {\n",
       "        vertical-align: top;\n",
       "    }\n",
       "\n",
       "    .dataframe thead th {\n",
       "        text-align: right;\n",
       "    }\n",
       "</style>\n",
       "<table border=\"1\" class=\"dataframe\">\n",
       "  <thead>\n",
       "    <tr style=\"text-align: right;\">\n",
       "      <th>Predicted Preference</th>\n",
       "      <th>1</th>\n",
       "      <th>2</th>\n",
       "      <th>3</th>\n",
       "    </tr>\n",
       "    <tr>\n",
       "      <th>Actual Preference</th>\n",
       "      <th></th>\n",
       "      <th></th>\n",
       "      <th></th>\n",
       "    </tr>\n",
       "  </thead>\n",
       "  <tbody>\n",
       "    <tr>\n",
       "      <th>1</th>\n",
       "      <td>36</td>\n",
       "      <td>8</td>\n",
       "      <td>4</td>\n",
       "    </tr>\n",
       "    <tr>\n",
       "      <th>2</th>\n",
       "      <td>9</td>\n",
       "      <td>7</td>\n",
       "      <td>1</td>\n",
       "    </tr>\n",
       "    <tr>\n",
       "      <th>3</th>\n",
       "      <td>7</td>\n",
       "      <td>1</td>\n",
       "      <td>2</td>\n",
       "    </tr>\n",
       "  </tbody>\n",
       "</table>\n",
       "</div>"
      ],
      "text/plain": [
       "Predicted Preference   1  2  3\n",
       "Actual Preference             \n",
       "1                     36  8  4\n",
       "2                      9  7  1\n",
       "3                      7  1  2"
      ]
     },
     "execution_count": 57,
     "metadata": {},
     "output_type": "execute_result"
    }
   ],
   "source": [
    "error_boost = 1-AdaBoost.score(tst_features, tst_target)\n",
    "\n",
    "print(\"Erro de classificação: \", error_boost*100, \"%\")\n",
    "\n",
    "# Matriz de Confusão\n",
    "predictions_boost = AdaBoost.predict(tst_features)\n",
    "\n",
    "pd.crosstab(tst_target, predictions_boost, rownames=['Actual Preference'], colnames=['Predicted Preference'])"
   ]
  },
  {
   "cell_type": "code",
   "execution_count": 61,
   "metadata": {},
   "outputs": [
    {
     "data": {
      "text/plain": [
       "DecisionTreeClassifier(random_state=0)"
      ]
     },
     "execution_count": 61,
     "metadata": {},
     "output_type": "execute_result"
    }
   ],
   "source": [
    "from sklearn.tree import DecisionTreeClassifier\n",
    "clf = DecisionTreeClassifier(random_state=0)\n",
    "\n",
    "clf.fit(trn_features, trn_target)"
   ]
  },
  {
   "cell_type": "code",
   "execution_count": 72,
   "metadata": {},
   "outputs": [
    {
     "data": {
      "text/html": [
       "<div>\n",
       "<style scoped>\n",
       "    .dataframe tbody tr th:only-of-type {\n",
       "        vertical-align: middle;\n",
       "    }\n",
       "\n",
       "    .dataframe tbody tr th {\n",
       "        vertical-align: top;\n",
       "    }\n",
       "\n",
       "    .dataframe thead th {\n",
       "        text-align: right;\n",
       "    }\n",
       "</style>\n",
       "<table border=\"1\" class=\"dataframe\">\n",
       "  <thead>\n",
       "    <tr style=\"text-align: right;\">\n",
       "      <th></th>\n",
       "      <th>importance</th>\n",
       "      <th>features</th>\n",
       "    </tr>\n",
       "  </thead>\n",
       "  <tbody>\n",
       "    <tr>\n",
       "      <th>0</th>\n",
       "      <td>0.006639</td>\n",
       "      <td>breakfast</td>\n",
       "    </tr>\n",
       "    <tr>\n",
       "      <th>1</th>\n",
       "      <td>0.013942</td>\n",
       "      <td>afternoon.tea</td>\n",
       "    </tr>\n",
       "    <tr>\n",
       "      <th>2</th>\n",
       "      <td>0.016899</td>\n",
       "      <td>evening</td>\n",
       "    </tr>\n",
       "    <tr>\n",
       "      <th>3</th>\n",
       "      <td>0.002460</td>\n",
       "      <td>after.lunch</td>\n",
       "    </tr>\n",
       "    <tr>\n",
       "      <th>4</th>\n",
       "      <td>0.000000</td>\n",
       "      <td>after.dinner</td>\n",
       "    </tr>\n",
       "    <tr>\n",
       "      <th>5</th>\n",
       "      <td>0.014232</td>\n",
       "      <td>anytime</td>\n",
       "    </tr>\n",
       "    <tr>\n",
       "      <th>6</th>\n",
       "      <td>0.000000</td>\n",
       "      <td>home</td>\n",
       "    </tr>\n",
       "    <tr>\n",
       "      <th>7</th>\n",
       "      <td>0.023236</td>\n",
       "      <td>work</td>\n",
       "    </tr>\n",
       "    <tr>\n",
       "      <th>8</th>\n",
       "      <td>0.013788</td>\n",
       "      <td>tearoom</td>\n",
       "    </tr>\n",
       "    <tr>\n",
       "      <th>9</th>\n",
       "      <td>0.028345</td>\n",
       "      <td>friends</td>\n",
       "    </tr>\n",
       "    <tr>\n",
       "      <th>10</th>\n",
       "      <td>0.015076</td>\n",
       "      <td>restaurant</td>\n",
       "    </tr>\n",
       "    <tr>\n",
       "      <th>11</th>\n",
       "      <td>0.029190</td>\n",
       "      <td>pub</td>\n",
       "    </tr>\n",
       "    <tr>\n",
       "      <th>12</th>\n",
       "      <td>0.027883</td>\n",
       "      <td>sugar</td>\n",
       "    </tr>\n",
       "    <tr>\n",
       "      <th>13</th>\n",
       "      <td>0.016991</td>\n",
       "      <td>sport</td>\n",
       "    </tr>\n",
       "    <tr>\n",
       "      <th>14</th>\n",
       "      <td>0.232735</td>\n",
       "      <td>age</td>\n",
       "    </tr>\n",
       "    <tr>\n",
       "      <th>15</th>\n",
       "      <td>0.006289</td>\n",
       "      <td>exotic</td>\n",
       "    </tr>\n",
       "    <tr>\n",
       "      <th>16</th>\n",
       "      <td>0.000000</td>\n",
       "      <td>spirituality</td>\n",
       "    </tr>\n",
       "    <tr>\n",
       "      <th>17</th>\n",
       "      <td>0.038853</td>\n",
       "      <td>good for health</td>\n",
       "    </tr>\n",
       "    <tr>\n",
       "      <th>18</th>\n",
       "      <td>0.000000</td>\n",
       "      <td>diuretic</td>\n",
       "    </tr>\n",
       "    <tr>\n",
       "      <th>19</th>\n",
       "      <td>0.015374</td>\n",
       "      <td>friendliness</td>\n",
       "    </tr>\n",
       "    <tr>\n",
       "      <th>20</th>\n",
       "      <td>0.013070</td>\n",
       "      <td>iron absorption</td>\n",
       "    </tr>\n",
       "    <tr>\n",
       "      <th>21</th>\n",
       "      <td>0.000000</td>\n",
       "      <td>feminine</td>\n",
       "    </tr>\n",
       "    <tr>\n",
       "      <th>22</th>\n",
       "      <td>0.008714</td>\n",
       "      <td>refined</td>\n",
       "    </tr>\n",
       "    <tr>\n",
       "      <th>23</th>\n",
       "      <td>0.023311</td>\n",
       "      <td>slimming</td>\n",
       "    </tr>\n",
       "    <tr>\n",
       "      <th>24</th>\n",
       "      <td>0.000000</td>\n",
       "      <td>stimulant</td>\n",
       "    </tr>\n",
       "    <tr>\n",
       "      <th>25</th>\n",
       "      <td>0.000000</td>\n",
       "      <td>relaxant</td>\n",
       "    </tr>\n",
       "    <tr>\n",
       "      <th>26</th>\n",
       "      <td>0.014523</td>\n",
       "      <td>no.effect.health</td>\n",
       "    </tr>\n",
       "    <tr>\n",
       "      <th>27</th>\n",
       "      <td>0.010373</td>\n",
       "      <td>how_lemon</td>\n",
       "    </tr>\n",
       "    <tr>\n",
       "      <th>28</th>\n",
       "      <td>0.014845</td>\n",
       "      <td>how_milk</td>\n",
       "    </tr>\n",
       "    <tr>\n",
       "      <th>29</th>\n",
       "      <td>0.011618</td>\n",
       "      <td>how_nothing.added</td>\n",
       "    </tr>\n",
       "    <tr>\n",
       "      <th>30</th>\n",
       "      <td>0.000000</td>\n",
       "      <td>how_other</td>\n",
       "    </tr>\n",
       "    <tr>\n",
       "      <th>31</th>\n",
       "      <td>0.067594</td>\n",
       "      <td>format_loose</td>\n",
       "    </tr>\n",
       "    <tr>\n",
       "      <th>32</th>\n",
       "      <td>0.027052</td>\n",
       "      <td>format_sachet</td>\n",
       "    </tr>\n",
       "    <tr>\n",
       "      <th>33</th>\n",
       "      <td>0.000000</td>\n",
       "      <td>format_sachet+loose</td>\n",
       "    </tr>\n",
       "    <tr>\n",
       "      <th>34</th>\n",
       "      <td>0.034594</td>\n",
       "      <td>place.of.purchase_specialist.shop</td>\n",
       "    </tr>\n",
       "    <tr>\n",
       "      <th>35</th>\n",
       "      <td>0.013070</td>\n",
       "      <td>place.of.purchase_supermarket</td>\n",
       "    </tr>\n",
       "    <tr>\n",
       "      <th>36</th>\n",
       "      <td>0.010456</td>\n",
       "      <td>place.of.purchase_supermarket+specialist.</td>\n",
       "    </tr>\n",
       "    <tr>\n",
       "      <th>37</th>\n",
       "      <td>0.000000</td>\n",
       "      <td>type_cheapest</td>\n",
       "    </tr>\n",
       "    <tr>\n",
       "      <th>38</th>\n",
       "      <td>0.042599</td>\n",
       "      <td>type_known.brand</td>\n",
       "    </tr>\n",
       "    <tr>\n",
       "      <th>39</th>\n",
       "      <td>0.018589</td>\n",
       "      <td>type_luxury</td>\n",
       "    </tr>\n",
       "    <tr>\n",
       "      <th>40</th>\n",
       "      <td>0.014274</td>\n",
       "      <td>type_shop.brand</td>\n",
       "    </tr>\n",
       "    <tr>\n",
       "      <th>41</th>\n",
       "      <td>0.000000</td>\n",
       "      <td>type_unknown</td>\n",
       "    </tr>\n",
       "    <tr>\n",
       "      <th>42</th>\n",
       "      <td>0.010456</td>\n",
       "      <td>type_varies</td>\n",
       "    </tr>\n",
       "    <tr>\n",
       "      <th>43</th>\n",
       "      <td>0.011618</td>\n",
       "      <td>sex_F</td>\n",
       "    </tr>\n",
       "    <tr>\n",
       "      <th>44</th>\n",
       "      <td>0.000000</td>\n",
       "      <td>sex_M</td>\n",
       "    </tr>\n",
       "    <tr>\n",
       "      <th>45</th>\n",
       "      <td>0.050750</td>\n",
       "      <td>profession_employee</td>\n",
       "    </tr>\n",
       "    <tr>\n",
       "      <th>46</th>\n",
       "      <td>0.014478</td>\n",
       "      <td>profession_management</td>\n",
       "    </tr>\n",
       "    <tr>\n",
       "      <th>47</th>\n",
       "      <td>0.000000</td>\n",
       "      <td>profession_manual labourer</td>\n",
       "    </tr>\n",
       "    <tr>\n",
       "      <th>48</th>\n",
       "      <td>0.039321</td>\n",
       "      <td>profession_other work</td>\n",
       "    </tr>\n",
       "    <tr>\n",
       "      <th>49</th>\n",
       "      <td>0.000000</td>\n",
       "      <td>profession_senior management</td>\n",
       "    </tr>\n",
       "    <tr>\n",
       "      <th>50</th>\n",
       "      <td>0.000000</td>\n",
       "      <td>profession_student</td>\n",
       "    </tr>\n",
       "    <tr>\n",
       "      <th>51</th>\n",
       "      <td>0.005809</td>\n",
       "      <td>profession_unemployed</td>\n",
       "    </tr>\n",
       "    <tr>\n",
       "      <th>52</th>\n",
       "      <td>0.008714</td>\n",
       "      <td>frequency_1 to 2/week</td>\n",
       "    </tr>\n",
       "    <tr>\n",
       "      <th>53</th>\n",
       "      <td>0.011618</td>\n",
       "      <td>frequency_1/day</td>\n",
       "    </tr>\n",
       "    <tr>\n",
       "      <th>54</th>\n",
       "      <td>0.011328</td>\n",
       "      <td>frequency_3 to 6/week</td>\n",
       "    </tr>\n",
       "    <tr>\n",
       "      <th>55</th>\n",
       "      <td>0.009294</td>\n",
       "      <td>frequency_more than 2/day</td>\n",
       "    </tr>\n",
       "  </tbody>\n",
       "</table>\n",
       "</div>"
      ],
      "text/plain": [
       "    importance                                   features\n",
       "0     0.006639                                  breakfast\n",
       "1     0.013942                              afternoon.tea\n",
       "2     0.016899                                    evening\n",
       "3     0.002460                                after.lunch\n",
       "4     0.000000                               after.dinner\n",
       "5     0.014232                                    anytime\n",
       "6     0.000000                                       home\n",
       "7     0.023236                                       work\n",
       "8     0.013788                                    tearoom\n",
       "9     0.028345                                    friends\n",
       "10    0.015076                                 restaurant\n",
       "11    0.029190                                        pub\n",
       "12    0.027883                                      sugar\n",
       "13    0.016991                                      sport\n",
       "14    0.232735                                        age\n",
       "15    0.006289                                     exotic\n",
       "16    0.000000                               spirituality\n",
       "17    0.038853                            good for health\n",
       "18    0.000000                                   diuretic\n",
       "19    0.015374                               friendliness\n",
       "20    0.013070                            iron absorption\n",
       "21    0.000000                                   feminine\n",
       "22    0.008714                                    refined\n",
       "23    0.023311                                   slimming\n",
       "24    0.000000                                  stimulant\n",
       "25    0.000000                                   relaxant\n",
       "26    0.014523                           no.effect.health\n",
       "27    0.010373                                  how_lemon\n",
       "28    0.014845                                   how_milk\n",
       "29    0.011618                          how_nothing.added\n",
       "30    0.000000                                  how_other\n",
       "31    0.067594                               format_loose\n",
       "32    0.027052                              format_sachet\n",
       "33    0.000000                        format_sachet+loose\n",
       "34    0.034594          place.of.purchase_specialist.shop\n",
       "35    0.013070              place.of.purchase_supermarket\n",
       "36    0.010456  place.of.purchase_supermarket+specialist.\n",
       "37    0.000000                              type_cheapest\n",
       "38    0.042599                           type_known.brand\n",
       "39    0.018589                                type_luxury\n",
       "40    0.014274                            type_shop.brand\n",
       "41    0.000000                               type_unknown\n",
       "42    0.010456                                type_varies\n",
       "43    0.011618                                      sex_F\n",
       "44    0.000000                                      sex_M\n",
       "45    0.050750                        profession_employee\n",
       "46    0.014478                      profession_management\n",
       "47    0.000000                 profession_manual labourer\n",
       "48    0.039321                      profession_other work\n",
       "49    0.000000               profession_senior management\n",
       "50    0.000000                         profession_student\n",
       "51    0.005809                      profession_unemployed\n",
       "52    0.008714                      frequency_1 to 2/week\n",
       "53    0.011618                            frequency_1/day\n",
       "54    0.011328                      frequency_3 to 6/week\n",
       "55    0.009294                  frequency_more than 2/day"
      ]
     },
     "execution_count": 72,
     "metadata": {},
     "output_type": "execute_result"
    }
   ],
   "source": [
    "pd.DataFrame(data = {\"importance\": clf.feature_importances_, \"features\": feature_list})"
   ]
  },
  {
   "cell_type": "code",
   "execution_count": 71,
   "metadata": {},
   "outputs": [
    {
     "data": {
      "text/plain": [
       "14    0.232735\n",
       "31    0.067594\n",
       "45    0.050750\n",
       "38    0.042599\n",
       "48    0.039321\n",
       "17    0.038853\n",
       "34    0.034594\n",
       "11    0.029190\n",
       "9     0.028345\n",
       "12    0.027883\n",
       "32    0.027052\n",
       "23    0.023311\n",
       "7     0.023236\n",
       "39    0.018589\n",
       "13    0.016991\n",
       "2     0.016899\n",
       "19    0.015374\n",
       "10    0.015076\n",
       "28    0.014845\n",
       "26    0.014523\n",
       "46    0.014478\n",
       "40    0.014274\n",
       "5     0.014232\n",
       "1     0.013942\n",
       "8     0.013788\n",
       "20    0.013070\n",
       "35    0.013070\n",
       "29    0.011618\n",
       "43    0.011618\n",
       "53    0.011618\n",
       "54    0.011328\n",
       "42    0.010456\n",
       "36    0.010456\n",
       "27    0.010373\n",
       "55    0.009294\n",
       "52    0.008714\n",
       "22    0.008714\n",
       "0     0.006639\n",
       "15    0.006289\n",
       "51    0.005809\n",
       "3     0.002460\n",
       "47    0.000000\n",
       "4     0.000000\n",
       "50    0.000000\n",
       "6     0.000000\n",
       "49    0.000000\n",
       "21    0.000000\n",
       "44    0.000000\n",
       "37    0.000000\n",
       "33    0.000000\n",
       "30    0.000000\n",
       "25    0.000000\n",
       "16    0.000000\n",
       "24    0.000000\n",
       "18    0.000000\n",
       "41    0.000000\n",
       "dtype: float64"
      ]
     },
     "execution_count": 71,
     "metadata": {},
     "output_type": "execute_result"
    }
   ],
   "source": [
    "clf.score(tst_features, tst_target)\n",
    "pd.Series(clf.feature_importances_).sort_values(ascending = False)"
   ]
  },
  {
   "cell_type": "code",
   "execution_count": 66,
   "metadata": {},
   "outputs": [
    {
     "data": {
      "image/png": "[encoded data removed]",
      "text/plain": [
       "<Figure size 1800x1440 with 1 Axes>"
      ]
     },
     "metadata": {
      "needs_background": "light"
     },
     "output_type": "display_data"
    }
   ],
   "source": [
    "from matplotlib import pyplot as plt\n",
    "from sklearn import tree\n",
    "fig = plt.figure(figsize=(25,20))\n",
    "_ = tree.plot_tree(clf, \n",
    "                   feature_names=feature_list,  \n",
    "                   filled=True)\n"
   ]
  },
  {
   "cell_type": "markdown",
   "metadata": {},
   "source": [
    "### Referências: <br>\n",
    "<li> https://blog.softhints.com/pandas-value_counts-multiple-columns/\n",
    "<li> https://towardsdatascience.com/random-forest-in-python-24d0893d51c0\n",
    "<li> https://scikit-learn.org/stable/modules/generated/sklearn.ensemble.RandomForestClassifier.html\n",
    "<li> https://pandas.pydata.org/pandas-docs/stable/index.html\n",
    "<li> https://chrisalbon.com/machine_learning/trees_and_forests/random_forest_classifier_example/\n",
    "<li> https://www.python-course.eu/Boosting.php\n",
    "<li> https://scikit-learn.org/stable/modules/generated/sklearn.ensemble.AdaBoostClassifier.html"
   ]
  },
  {
   "cell_type": "code",
   "execution_count": null,
   "metadata": {},
   "outputs": [],
   "source": []
  }
 ],
 "metadata": {
  "kernelspec": {
   "display_name": "Python 3",
   "language": "python",
   "name": "python3"
  },
  "language_info": {
   "codemirror_mode": {
    "name": "ipython",
    "version": 3
   },
   "file_extension": ".py",
   "mimetype": "text/x-python",
   "name": "python",
   "nbconvert_exporter": "python",
   "pygments_lexer": "ipython3",
   "version": "3.8.3"
  }
 },
 "nbformat": 4,
 "nbformat_minor": 4
}
