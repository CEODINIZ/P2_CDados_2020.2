{
 "cells": [
  {
   "cell_type": "code",
   "execution_count": 1,
   "metadata": {},
   "outputs": [],
   "source": [
    "import pandas as pd\n",
    "import numpy as np\n",
    "from IPython.display import display\n",
    "from sklearn.model_selection import train_test_split\n",
    "from sklearn.ensemble import RandomForestClassifier"
   ]
  },
  {
   "cell_type": "markdown",
   "metadata": {},
   "source": [
    "### Entrega 10/11 - Dataset lido\n",
    "Mínimo esperado: um arquivo do jupyter notebook (.ipynb) com o\n",
    "código que lê o dataset (que também deve ser enviado no git) e realiza limpeza e manipulações necessárias no dataset."
   ]
  },
  {
   "cell_type": "code",
   "execution_count": 2,
   "metadata": {},
   "outputs": [
    {
     "name": "stdout",
     "output_type": "stream",
     "text": [
      "(300, 36)\n",
      "(300, 57)\n",
      "<class 'pandas.core.frame.DataFrame'>\n",
      "RangeIndex: 300 entries, 0 to 299\n",
      "Data columns (total 57 columns):\n",
      " #   Column                                     Non-Null Count  Dtype\n",
      "---  ------                                     --------------  -----\n",
      " 0   breakfast                                  300 non-null    bool \n",
      " 1   afternoon.tea                              300 non-null    bool \n",
      " 2   evening                                    300 non-null    bool \n",
      " 3   after.lunch                                300 non-null    bool \n",
      " 4   after.dinner                               300 non-null    bool \n",
      " 5   anytime                                    300 non-null    bool \n",
      " 6   home                                       300 non-null    bool \n",
      " 7   work                                       300 non-null    bool \n",
      " 8   tearoom                                    300 non-null    bool \n",
      " 9   friends                                    300 non-null    bool \n",
      " 10  restaurant                                 300 non-null    bool \n",
      " 11  pub                                        300 non-null    bool \n",
      " 12  variety                                    300 non-null    int64\n",
      " 13  sugar                                      300 non-null    bool \n",
      " 14  sport                                      300 non-null    bool \n",
      " 15  age                                        300 non-null    int64\n",
      " 16  exotic                                     300 non-null    bool \n",
      " 17  spirituality                               300 non-null    bool \n",
      " 18  good for health                            300 non-null    bool \n",
      " 19  diuretic                                   300 non-null    bool \n",
      " 20  friendliness                               300 non-null    bool \n",
      " 21  iron absorption                            300 non-null    bool \n",
      " 22  feminine                                   300 non-null    bool \n",
      " 23  refined                                    300 non-null    bool \n",
      " 24  slimming                                   300 non-null    bool \n",
      " 25  stimulant                                  300 non-null    bool \n",
      " 26  relaxant                                   300 non-null    bool \n",
      " 27  no.effect.health                           300 non-null    bool \n",
      " 28  how_lemon                                  300 non-null    uint8\n",
      " 29  how_milk                                   300 non-null    uint8\n",
      " 30  how_nothing.added                          300 non-null    uint8\n",
      " 31  how_other                                  300 non-null    uint8\n",
      " 32  format_loose                               300 non-null    uint8\n",
      " 33  format_sachet                              300 non-null    uint8\n",
      " 34  format_sachet+loose                        300 non-null    uint8\n",
      " 35  place.of.purchase_specialist.shop          300 non-null    uint8\n",
      " 36  place.of.purchase_supermarket              300 non-null    uint8\n",
      " 37  place.of.purchase_supermarket+specialist.  300 non-null    uint8\n",
      " 38  type_cheapest                              300 non-null    uint8\n",
      " 39  type_known.brand                           300 non-null    uint8\n",
      " 40  type_luxury                                300 non-null    uint8\n",
      " 41  type_shop.brand                            300 non-null    uint8\n",
      " 42  type_unknown                               300 non-null    uint8\n",
      " 43  type_varies                                300 non-null    uint8\n",
      " 44  sex_F                                      300 non-null    uint8\n",
      " 45  sex_M                                      300 non-null    uint8\n",
      " 46  profession_employee                        300 non-null    uint8\n",
      " 47  profession_management                      300 non-null    uint8\n",
      " 48  profession_manual labourer                 300 non-null    uint8\n",
      " 49  profession_other work                      300 non-null    uint8\n",
      " 50  profession_senior management               300 non-null    uint8\n",
      " 51  profession_student                         300 non-null    uint8\n",
      " 52  profession_unemployed                      300 non-null    uint8\n",
      " 53  frequency_1 to 2/week                      300 non-null    uint8\n",
      " 54  frequency_1/day                            300 non-null    uint8\n",
      " 55  frequency_3 to 6/week                      300 non-null    uint8\n",
      " 56  frequency_more than 2/day                  300 non-null    uint8\n",
      "dtypes: bool(26), int64(2), uint8(29)\n",
      "memory usage: 20.9 KB\n"
     ]
    }
   ],
   "source": [
    "data_og = pd.read_excel(\"tea.xlsx\")\n",
    "print(data_og.shape)\n",
    "\n",
    "data = data_og\n",
    "data = data.drop(labels = \"age_Q\", axis = 1)\n",
    "data = pd.get_dummies(data)\n",
    "\n",
    "print(data.shape)\n",
    "data.head()\n",
    "data.info()"
   ]
  },
  {
   "cell_type": "markdown",
   "metadata": {},
   "source": [
    "### Entrega 15/11 - Dataset lido e análise exploratória feita\n",
    "Mínimo esperado: um arquivo do jupyter notebook (.ipynb) com o\n",
    "código que lê o dataset (que também deve ser enviado no git) e faz uma análise exploratória inicial."
   ]
  },
  {
   "cell_type": "code",
   "execution_count": 3,
   "metadata": {
    "scrolled": true
   },
   "outputs": [
    {
     "name": "stdout",
     "output_type": "stream",
     "text": [
      "----------------------------------------breakfast---------------------------------------- - "
     ]
    },
    {
     "data": {
      "text/plain": [
       "False    156\n",
       "True     144\n",
       "Name: breakfast, dtype: int64"
      ]
     },
     "metadata": {},
     "output_type": "display_data"
    },
    {
     "name": "stdout",
     "output_type": "stream",
     "text": [
      "----------------------------------------afternoon.tea---------------------------------------- - "
     ]
    },
    {
     "data": {
      "text/plain": [
       "True     169\n",
       "False    131\n",
       "Name: afternoon.tea, dtype: int64"
      ]
     },
     "metadata": {},
     "output_type": "display_data"
    },
    {
     "name": "stdout",
     "output_type": "stream",
     "text": [
      "----------------------------------------evening---------------------------------------- - "
     ]
    },
    {
     "data": {
      "text/plain": [
       "False    197\n",
       "True     103\n",
       "Name: evening, dtype: int64"
      ]
     },
     "metadata": {},
     "output_type": "display_data"
    },
    {
     "name": "stdout",
     "output_type": "stream",
     "text": [
      "----------------------------------------after.lunch---------------------------------------- - "
     ]
    },
    {
     "data": {
      "text/plain": [
       "False    256\n",
       "True      44\n",
       "Name: after.lunch, dtype: int64"
      ]
     },
     "metadata": {},
     "output_type": "display_data"
    },
    {
     "name": "stdout",
     "output_type": "stream",
     "text": [
      "----------------------------------------after.dinner---------------------------------------- - "
     ]
    },
    {
     "data": {
      "text/plain": [
       "False    279\n",
       "True      21\n",
       "Name: after.dinner, dtype: int64"
      ]
     },
     "metadata": {},
     "output_type": "display_data"
    },
    {
     "name": "stdout",
     "output_type": "stream",
     "text": [
      "----------------------------------------anytime---------------------------------------- - "
     ]
    },
    {
     "data": {
      "text/plain": [
       "False    197\n",
       "True     103\n",
       "Name: anytime, dtype: int64"
      ]
     },
     "metadata": {},
     "output_type": "display_data"
    },
    {
     "name": "stdout",
     "output_type": "stream",
     "text": [
      "----------------------------------------home---------------------------------------- - "
     ]
    },
    {
     "data": {
      "text/plain": [
       "True     291\n",
       "False      9\n",
       "Name: home, dtype: int64"
      ]
     },
     "metadata": {},
     "output_type": "display_data"
    },
    {
     "name": "stdout",
     "output_type": "stream",
     "text": [
      "----------------------------------------work---------------------------------------- - "
     ]
    },
    {
     "data": {
      "text/plain": [
       "False    213\n",
       "True      87\n",
       "Name: work, dtype: int64"
      ]
     },
     "metadata": {},
     "output_type": "display_data"
    },
    {
     "name": "stdout",
     "output_type": "stream",
     "text": [
      "----------------------------------------tearoom---------------------------------------- - "
     ]
    },
    {
     "data": {
      "text/plain": [
       "False    242\n",
       "True      58\n",
       "Name: tearoom, dtype: int64"
      ]
     },
     "metadata": {},
     "output_type": "display_data"
    },
    {
     "name": "stdout",
     "output_type": "stream",
     "text": [
      "----------------------------------------friends---------------------------------------- - "
     ]
    },
    {
     "data": {
      "text/plain": [
       "True     196\n",
       "False    104\n",
       "Name: friends, dtype: int64"
      ]
     },
     "metadata": {},
     "output_type": "display_data"
    },
    {
     "name": "stdout",
     "output_type": "stream",
     "text": [
      "----------------------------------------restaurant---------------------------------------- - "
     ]
    },
    {
     "data": {
      "text/plain": [
       "False    221\n",
       "True      79\n",
       "Name: restaurant, dtype: int64"
      ]
     },
     "metadata": {},
     "output_type": "display_data"
    },
    {
     "name": "stdout",
     "output_type": "stream",
     "text": [
      "----------------------------------------pub---------------------------------------- - "
     ]
    },
    {
     "data": {
      "text/plain": [
       "False    237\n",
       "True      63\n",
       "Name: pub, dtype: int64"
      ]
     },
     "metadata": {},
     "output_type": "display_data"
    },
    {
     "name": "stdout",
     "output_type": "stream",
     "text": [
      "----------------------------------------variety---------------------------------------- - "
     ]
    },
    {
     "data": {
      "text/plain": [
       "1    193\n",
       "2     74\n",
       "3     33\n",
       "Name: variety, dtype: int64"
      ]
     },
     "metadata": {},
     "output_type": "display_data"
    },
    {
     "name": "stdout",
     "output_type": "stream",
     "text": [
      "----------------------------------------how---------------------------------------- - "
     ]
    },
    {
     "data": {
      "text/plain": [
       "nothing.added    195\n",
       "milk              63\n",
       "lemon             33\n",
       "other              9\n",
       "Name: how, dtype: int64"
      ]
     },
     "metadata": {},
     "output_type": "display_data"
    },
    {
     "name": "stdout",
     "output_type": "stream",
     "text": [
      "----------------------------------------sugar---------------------------------------- - "
     ]
    },
    {
     "data": {
      "text/plain": [
       "False    155\n",
       "True     145\n",
       "Name: sugar, dtype: int64"
      ]
     },
     "metadata": {},
     "output_type": "display_data"
    },
    {
     "name": "stdout",
     "output_type": "stream",
     "text": [
      "----------------------------------------format---------------------------------------- - "
     ]
    },
    {
     "data": {
      "text/plain": [
       "sachet          170\n",
       "sachet+loose     94\n",
       "loose            36\n",
       "Name: format, dtype: int64"
      ]
     },
     "metadata": {},
     "output_type": "display_data"
    },
    {
     "name": "stdout",
     "output_type": "stream",
     "text": [
      "----------------------------------------place.of.purchase---------------------------------------- - "
     ]
    },
    {
     "data": {
      "text/plain": [
       "supermarket                192\n",
       "supermarket+specialist.     78\n",
       "specialist.shop             30\n",
       "Name: place.of.purchase, dtype: int64"
      ]
     },
     "metadata": {},
     "output_type": "display_data"
    },
    {
     "name": "stdout",
     "output_type": "stream",
     "text": [
      "----------------------------------------type---------------------------------------- - "
     ]
    },
    {
     "data": {
      "text/plain": [
       "varies         112\n",
       "known.brand     95\n",
       "luxury          53\n",
       "shop.brand      21\n",
       "unknown         12\n",
       "cheapest         7\n",
       "Name: type, dtype: int64"
      ]
     },
     "metadata": {},
     "output_type": "display_data"
    },
    {
     "name": "stdout",
     "output_type": "stream",
     "text": [
      "----------------------------------------sex---------------------------------------- - "
     ]
    },
    {
     "data": {
      "text/plain": [
       "F    178\n",
       "M    122\n",
       "Name: sex, dtype: int64"
      ]
     },
     "metadata": {},
     "output_type": "display_data"
    },
    {
     "name": "stdout",
     "output_type": "stream",
     "text": [
      "----------------------------------------profession---------------------------------------- - "
     ]
    },
    {
     "data": {
      "text/plain": [
       "student              70\n",
       "unemployed           64\n",
       "employee             59\n",
       "management           40\n",
       "senior management    35\n",
       "other work           20\n",
       "manual labourer      12\n",
       "Name: profession, dtype: int64"
      ]
     },
     "metadata": {},
     "output_type": "display_data"
    },
    {
     "name": "stdout",
     "output_type": "stream",
     "text": [
      "----------------------------------------sport---------------------------------------- - "
     ]
    },
    {
     "data": {
      "text/plain": [
       "True     179\n",
       "False    121\n",
       "Name: sport, dtype: int64"
      ]
     },
     "metadata": {},
     "output_type": "display_data"
    },
    {
     "name": "stdout",
     "output_type": "stream",
     "text": [
      "----------------------------------------age---------------------------------------- - "
     ]
    },
    {
     "data": {
      "text/plain": [
       "21    20\n",
       "22    18\n",
       "25    16\n",
       "20    12\n",
       "23    12\n",
       "      ..\n",
       "68     1\n",
       "62     1\n",
       "89     1\n",
       "43     1\n",
       "90     1\n",
       "Name: age, Length: 61, dtype: int64"
      ]
     },
     "metadata": {},
     "output_type": "display_data"
    },
    {
     "name": "stdout",
     "output_type": "stream",
     "text": [
      "----------------------------------------age_Q---------------------------------------- - "
     ]
    },
    {
     "data": {
      "text/plain": [
       "15-24       92\n",
       "25-34       69\n",
       "45-59       61\n",
       "35-44       40\n",
       "60 and +    38\n",
       "Name: age_Q, dtype: int64"
      ]
     },
     "metadata": {},
     "output_type": "display_data"
    },
    {
     "name": "stdout",
     "output_type": "stream",
     "text": [
      "----------------------------------------frequency---------------------------------------- - "
     ]
    },
    {
     "data": {
      "text/plain": [
       "more than 2/day    127\n",
       "1/day               95\n",
       "1 to 2/week         44\n",
       "3 to 6/week         34\n",
       "Name: frequency, dtype: int64"
      ]
     },
     "metadata": {},
     "output_type": "display_data"
    },
    {
     "name": "stdout",
     "output_type": "stream",
     "text": [
      "----------------------------------------exotic---------------------------------------- - "
     ]
    },
    {
     "data": {
      "text/plain": [
       "False    158\n",
       "True     142\n",
       "Name: exotic, dtype: int64"
      ]
     },
     "metadata": {},
     "output_type": "display_data"
    },
    {
     "name": "stdout",
     "output_type": "stream",
     "text": [
      "----------------------------------------spirituality---------------------------------------- - "
     ]
    },
    {
     "data": {
      "text/plain": [
       "False    206\n",
       "True      94\n",
       "Name: spirituality, dtype: int64"
      ]
     },
     "metadata": {},
     "output_type": "display_data"
    },
    {
     "name": "stdout",
     "output_type": "stream",
     "text": [
      "----------------------------------------good for health---------------------------------------- - "
     ]
    },
    {
     "data": {
      "text/plain": [
       "True     210\n",
       "False     90\n",
       "Name: good for health, dtype: int64"
      ]
     },
     "metadata": {},
     "output_type": "display_data"
    },
    {
     "name": "stdout",
     "output_type": "stream",
     "text": [
      "----------------------------------------diuretic---------------------------------------- - "
     ]
    },
    {
     "data": {
      "text/plain": [
       "True     174\n",
       "False    126\n",
       "Name: diuretic, dtype: int64"
      ]
     },
     "metadata": {},
     "output_type": "display_data"
    },
    {
     "name": "stdout",
     "output_type": "stream",
     "text": [
      "----------------------------------------friendliness---------------------------------------- - "
     ]
    },
    {
     "data": {
      "text/plain": [
       "True     242\n",
       "False     58\n",
       "Name: friendliness, dtype: int64"
      ]
     },
     "metadata": {},
     "output_type": "display_data"
    },
    {
     "name": "stdout",
     "output_type": "stream",
     "text": [
      "----------------------------------------iron absorption---------------------------------------- - "
     ]
    },
    {
     "data": {
      "text/plain": [
       "False    269\n",
       "True      31\n",
       "Name: iron absorption, dtype: int64"
      ]
     },
     "metadata": {},
     "output_type": "display_data"
    },
    {
     "name": "stdout",
     "output_type": "stream",
     "text": [
      "----------------------------------------feminine---------------------------------------- - "
     ]
    },
    {
     "data": {
      "text/plain": [
       "False    171\n",
       "True     129\n",
       "Name: feminine, dtype: int64"
      ]
     },
     "metadata": {},
     "output_type": "display_data"
    },
    {
     "name": "stdout",
     "output_type": "stream",
     "text": [
      "----------------------------------------refined---------------------------------------- - "
     ]
    },
    {
     "data": {
      "text/plain": [
       "True     215\n",
       "False     85\n",
       "Name: refined, dtype: int64"
      ]
     },
     "metadata": {},
     "output_type": "display_data"
    },
    {
     "name": "stdout",
     "output_type": "stream",
     "text": [
      "----------------------------------------slimming---------------------------------------- - "
     ]
    },
    {
     "data": {
      "text/plain": [
       "False    255\n",
       "True      45\n",
       "Name: slimming, dtype: int64"
      ]
     },
     "metadata": {},
     "output_type": "display_data"
    },
    {
     "name": "stdout",
     "output_type": "stream",
     "text": [
      "----------------------------------------stimulant---------------------------------------- - "
     ]
    },
    {
     "data": {
      "text/plain": [
       "False    184\n",
       "True     116\n",
       "Name: stimulant, dtype: int64"
      ]
     },
     "metadata": {},
     "output_type": "display_data"
    },
    {
     "name": "stdout",
     "output_type": "stream",
     "text": [
      "----------------------------------------relaxant---------------------------------------- - "
     ]
    },
    {
     "data": {
      "text/plain": [
       "True     187\n",
       "False    113\n",
       "Name: relaxant, dtype: int64"
      ]
     },
     "metadata": {},
     "output_type": "display_data"
    },
    {
     "name": "stdout",
     "output_type": "stream",
     "text": [
      "----------------------------------------no.effect.health---------------------------------------- - "
     ]
    },
    {
     "data": {
      "text/plain": [
       "True     234\n",
       "False     66\n",
       "Name: no.effect.health, dtype: int64"
      ]
     },
     "metadata": {},
     "output_type": "display_data"
    }
   ],
   "source": [
    "data = data.astype(\"category\")\n",
    "data_og = data_og.astype(\"category\")\n",
    "\n",
    "for col in data_og.columns:\n",
    "    print('-' * 40 + col + '-' * 40 , end=' - ')\n",
    "    display(data_og[col].value_counts())"
   ]
  },
  {
   "cell_type": "markdown",
   "metadata": {},
   "source": [
    "A variável target escolhida é \"Variety\" para descobrir qual é a preferência de tipo de chá consumido. As outras vão ser consideradas features. <br>\n",
    "Legenda: <br>\n",
    "<li> 1 - Flavoured;\n",
    "<li> 2 - Black;\n",
    "<li> 3 - Green."
   ]
  },
  {
   "cell_type": "code",
   "execution_count": 4,
   "metadata": {},
   "outputs": [
    {
     "data": {
      "text/html": [
       "<div>\n",
       "<style scoped>\n",
       "    .dataframe tbody tr th:only-of-type {\n",
       "        vertical-align: middle;\n",
       "    }\n",
       "\n",
       "    .dataframe tbody tr th {\n",
       "        vertical-align: top;\n",
       "    }\n",
       "\n",
       "    .dataframe thead th {\n",
       "        text-align: right;\n",
       "    }\n",
       "</style>\n",
       "<table border=\"1\" class=\"dataframe\">\n",
       "  <thead>\n",
       "    <tr style=\"text-align: right;\">\n",
       "      <th>age_Q</th>\n",
       "      <th>15-24</th>\n",
       "      <th>25-34</th>\n",
       "      <th>35-44</th>\n",
       "      <th>45-59</th>\n",
       "      <th>60 and +</th>\n",
       "    </tr>\n",
       "    <tr>\n",
       "      <th>variety</th>\n",
       "      <th></th>\n",
       "      <th></th>\n",
       "      <th></th>\n",
       "      <th></th>\n",
       "      <th></th>\n",
       "    </tr>\n",
       "  </thead>\n",
       "  <tbody>\n",
       "    <tr>\n",
       "      <th>1</th>\n",
       "      <td>77</td>\n",
       "      <td>48</td>\n",
       "      <td>21</td>\n",
       "      <td>34</td>\n",
       "      <td>13</td>\n",
       "    </tr>\n",
       "    <tr>\n",
       "      <th>2</th>\n",
       "      <td>11</td>\n",
       "      <td>11</td>\n",
       "      <td>16</td>\n",
       "      <td>18</td>\n",
       "      <td>18</td>\n",
       "    </tr>\n",
       "    <tr>\n",
       "      <th>3</th>\n",
       "      <td>4</td>\n",
       "      <td>10</td>\n",
       "      <td>3</td>\n",
       "      <td>9</td>\n",
       "      <td>7</td>\n",
       "    </tr>\n",
       "  </tbody>\n",
       "</table>\n",
       "</div>"
      ],
      "text/plain": [
       "age_Q    15-24  25-34  35-44  45-59  60 and +\n",
       "variety                                      \n",
       "1           77     48     21     34        13\n",
       "2           11     11     16     18        18\n",
       "3            4     10      3      9         7"
      ]
     },
     "execution_count": 4,
     "metadata": {},
     "output_type": "execute_result"
    }
   ],
   "source": [
    "pd.crosstab(data_og[\"variety\"], data_og[\"age_Q\"])"
   ]
  },
  {
   "cell_type": "code",
   "execution_count": 5,
   "metadata": {},
   "outputs": [
    {
     "data": {
      "text/html": [
       "<div>\n",
       "<style scoped>\n",
       "    .dataframe tbody tr th:only-of-type {\n",
       "        vertical-align: middle;\n",
       "    }\n",
       "\n",
       "    .dataframe tbody tr th {\n",
       "        vertical-align: top;\n",
       "    }\n",
       "\n",
       "    .dataframe thead th {\n",
       "        text-align: right;\n",
       "    }\n",
       "</style>\n",
       "<table border=\"1\" class=\"dataframe\">\n",
       "  <thead>\n",
       "    <tr style=\"text-align: right;\">\n",
       "      <th>profession</th>\n",
       "      <th>employee</th>\n",
       "      <th>management</th>\n",
       "      <th>manual labourer</th>\n",
       "      <th>other work</th>\n",
       "      <th>senior management</th>\n",
       "      <th>student</th>\n",
       "      <th>unemployed</th>\n",
       "    </tr>\n",
       "    <tr>\n",
       "      <th>variety</th>\n",
       "      <th></th>\n",
       "      <th></th>\n",
       "      <th></th>\n",
       "      <th></th>\n",
       "      <th></th>\n",
       "      <th></th>\n",
       "      <th></th>\n",
       "    </tr>\n",
       "  </thead>\n",
       "  <tbody>\n",
       "    <tr>\n",
       "      <th>1</th>\n",
       "      <td>38</td>\n",
       "      <td>23</td>\n",
       "      <td>9</td>\n",
       "      <td>11</td>\n",
       "      <td>22</td>\n",
       "      <td>58</td>\n",
       "      <td>32</td>\n",
       "    </tr>\n",
       "    <tr>\n",
       "      <th>2</th>\n",
       "      <td>15</td>\n",
       "      <td>13</td>\n",
       "      <td>1</td>\n",
       "      <td>5</td>\n",
       "      <td>9</td>\n",
       "      <td>9</td>\n",
       "      <td>22</td>\n",
       "    </tr>\n",
       "    <tr>\n",
       "      <th>3</th>\n",
       "      <td>6</td>\n",
       "      <td>4</td>\n",
       "      <td>2</td>\n",
       "      <td>4</td>\n",
       "      <td>4</td>\n",
       "      <td>3</td>\n",
       "      <td>10</td>\n",
       "    </tr>\n",
       "  </tbody>\n",
       "</table>\n",
       "</div>"
      ],
      "text/plain": [
       "profession  employee  management  manual labourer  other work  \\\n",
       "variety                                                         \n",
       "1                 38          23                9          11   \n",
       "2                 15          13                1           5   \n",
       "3                  6           4                2           4   \n",
       "\n",
       "profession  senior management  student  unemployed  \n",
       "variety                                             \n",
       "1                          22       58          32  \n",
       "2                           9        9          22  \n",
       "3                           4        3          10  "
      ]
     },
     "execution_count": 5,
     "metadata": {},
     "output_type": "execute_result"
    }
   ],
   "source": [
    "pd.crosstab(data_og[\"variety\"], data_og[\"profession\"])"
   ]
  },
  {
   "cell_type": "code",
   "execution_count": 6,
   "metadata": {},
   "outputs": [
    {
     "data": {
      "text/html": [
       "<div>\n",
       "<style scoped>\n",
       "    .dataframe tbody tr th:only-of-type {\n",
       "        vertical-align: middle;\n",
       "    }\n",
       "\n",
       "    .dataframe tbody tr th {\n",
       "        vertical-align: top;\n",
       "    }\n",
       "\n",
       "    .dataframe thead th {\n",
       "        text-align: right;\n",
       "    }\n",
       "</style>\n",
       "<table border=\"1\" class=\"dataframe\">\n",
       "  <thead>\n",
       "    <tr style=\"text-align: right;\">\n",
       "      <th>good for health</th>\n",
       "      <th>False</th>\n",
       "      <th>True</th>\n",
       "    </tr>\n",
       "    <tr>\n",
       "      <th>variety</th>\n",
       "      <th></th>\n",
       "      <th></th>\n",
       "    </tr>\n",
       "  </thead>\n",
       "  <tbody>\n",
       "    <tr>\n",
       "      <th>1</th>\n",
       "      <td>64</td>\n",
       "      <td>129</td>\n",
       "    </tr>\n",
       "    <tr>\n",
       "      <th>2</th>\n",
       "      <td>20</td>\n",
       "      <td>54</td>\n",
       "    </tr>\n",
       "    <tr>\n",
       "      <th>3</th>\n",
       "      <td>6</td>\n",
       "      <td>27</td>\n",
       "    </tr>\n",
       "  </tbody>\n",
       "</table>\n",
       "</div>"
      ],
      "text/plain": [
       "good for health  False  True\n",
       "variety                     \n",
       "1                   64   129\n",
       "2                   20    54\n",
       "3                    6    27"
      ]
     },
     "execution_count": 6,
     "metadata": {},
     "output_type": "execute_result"
    }
   ],
   "source": [
    "pd.crosstab(data_og[\"variety\"], data_og[\"good for health\"])"
   ]
  },
  {
   "cell_type": "code",
   "execution_count": 7,
   "metadata": {},
   "outputs": [
    {
     "data": {
      "text/html": [
       "<div>\n",
       "<style scoped>\n",
       "    .dataframe tbody tr th:only-of-type {\n",
       "        vertical-align: middle;\n",
       "    }\n",
       "\n",
       "    .dataframe tbody tr th {\n",
       "        vertical-align: top;\n",
       "    }\n",
       "\n",
       "    .dataframe thead th {\n",
       "        text-align: right;\n",
       "    }\n",
       "</style>\n",
       "<table border=\"1\" class=\"dataframe\">\n",
       "  <thead>\n",
       "    <tr style=\"text-align: right;\">\n",
       "      <th>how</th>\n",
       "      <th>lemon</th>\n",
       "      <th>milk</th>\n",
       "      <th>nothing.added</th>\n",
       "      <th>other</th>\n",
       "    </tr>\n",
       "    <tr>\n",
       "      <th>variety</th>\n",
       "      <th></th>\n",
       "      <th></th>\n",
       "      <th></th>\n",
       "      <th></th>\n",
       "    </tr>\n",
       "  </thead>\n",
       "  <tbody>\n",
       "    <tr>\n",
       "      <th>1</th>\n",
       "      <td>24</td>\n",
       "      <td>38</td>\n",
       "      <td>128</td>\n",
       "      <td>3</td>\n",
       "    </tr>\n",
       "    <tr>\n",
       "      <th>2</th>\n",
       "      <td>7</td>\n",
       "      <td>19</td>\n",
       "      <td>42</td>\n",
       "      <td>6</td>\n",
       "    </tr>\n",
       "    <tr>\n",
       "      <th>3</th>\n",
       "      <td>2</td>\n",
       "      <td>6</td>\n",
       "      <td>25</td>\n",
       "      <td>0</td>\n",
       "    </tr>\n",
       "  </tbody>\n",
       "</table>\n",
       "</div>"
      ],
      "text/plain": [
       "how      lemon  milk  nothing.added  other\n",
       "variety                                   \n",
       "1           24    38            128      3\n",
       "2            7    19             42      6\n",
       "3            2     6             25      0"
      ]
     },
     "execution_count": 7,
     "metadata": {},
     "output_type": "execute_result"
    }
   ],
   "source": [
    "pd.crosstab(data_og[\"variety\"], data_og[\"how\"])"
   ]
  },
  {
   "cell_type": "markdown",
   "metadata": {},
   "source": [
    "### Preparação dos dados\n",
    "Usando numpy, é possível separar o target dos features e simplificar o processo do algoritmo de machine learning escolhido."
   ]
  },
  {
   "cell_type": "code",
   "execution_count": 8,
   "metadata": {},
   "outputs": [],
   "source": [
    "target = np.array(data[\"variety\"])\n",
    "\n",
    "features= data.drop(\"variety\", axis = 1)\n",
    "\n",
    "feature_list = list(features.columns)\n",
    "\n",
    "features = np.array(features)"
   ]
  },
  {
   "cell_type": "markdown",
   "metadata": {},
   "source": [
    "### Separando dos dados em treinamento e teste"
   ]
  },
  {
   "cell_type": "code",
   "execution_count": 9,
   "metadata": {},
   "outputs": [],
   "source": [
    "trn_features, tst_features, trn_target, tst_target = train_test_split(features, target, test_size = 0.25, random_state = 42)"
   ]
  },
  {
   "cell_type": "markdown",
   "metadata": {},
   "source": [
    "### Treinando o 1° modelo\n",
    "O primeiro modelo escolhido é o Random Forest"
   ]
  },
  {
   "cell_type": "code",
   "execution_count": 22,
   "metadata": {},
   "outputs": [],
   "source": [
    "# O modelo vai ser iniciado com 1000 árvores\n",
    "rf = RandomForestClassifier(n_estimators = 1000, min_samples_leaf=25)\n",
    "\n",
    "rf.fit(trn_features, trn_target);"
   ]
  },
  {
   "cell_type": "markdown",
   "metadata": {},
   "source": [
    "### Testando o 1° modelo"
   ]
  },
  {
   "cell_type": "code",
   "execution_count": 23,
   "metadata": {},
   "outputs": [
    {
     "name": "stdout",
     "output_type": "stream",
     "text": [
      "Prediction error: 0.33333333333333337\n",
      "Mean Absolute Error: 0.30666666666666664\n"
     ]
    },
    {
     "data": {
      "text/html": [
       "<div>\n",
       "<style scoped>\n",
       "    .dataframe tbody tr th:only-of-type {\n",
       "        vertical-align: middle;\n",
       "    }\n",
       "\n",
       "    .dataframe tbody tr th {\n",
       "        vertical-align: top;\n",
       "    }\n",
       "\n",
       "    .dataframe thead th {\n",
       "        text-align: right;\n",
       "    }\n",
       "</style>\n",
       "<table border=\"1\" class=\"dataframe\">\n",
       "  <thead>\n",
       "    <tr style=\"text-align: right;\">\n",
       "      <th>Predicted Preferencee</th>\n",
       "      <th>1</th>\n",
       "    </tr>\n",
       "    <tr>\n",
       "      <th>Actual Preference</th>\n",
       "      <th></th>\n",
       "    </tr>\n",
       "  </thead>\n",
       "  <tbody>\n",
       "    <tr>\n",
       "      <th>1</th>\n",
       "      <td>52</td>\n",
       "    </tr>\n",
       "    <tr>\n",
       "      <th>2</th>\n",
       "      <td>16</td>\n",
       "    </tr>\n",
       "    <tr>\n",
       "      <th>3</th>\n",
       "      <td>7</td>\n",
       "    </tr>\n",
       "  </tbody>\n",
       "</table>\n",
       "</div>"
      ],
      "text/plain": [
       "Predicted Preferencee   1\n",
       "Actual Preference        \n",
       "1                      52\n",
       "2                      16\n",
       "3                       7"
      ]
     },
     "execution_count": 23,
     "metadata": {},
     "output_type": "execute_result"
    }
   ],
   "source": [
    "# Probabilidade das previsões do modelo\n",
    "predictions_prob = rf.predict_proba(tst_features)\n",
    "predictions = rf.predict(tst_features)\n",
    "\n",
    "error = 1 - rf.score(tst_features, tst_target, sample_weight=None)\n",
    "\n",
    "# Erro total de classificação\n",
    "print('Prediction error:',np.mean(predictions_prob))\n",
    "print('Mean Absolute Error:',error)\n",
    "\n",
    "# Matriz de confusão\n",
    "pd.crosstab(tst_target, predictions, rownames=['Actual Preference'], colnames=['Predicted Preferencee'])"
   ]
  },
  {
   "cell_type": "markdown",
   "metadata": {},
   "source": [
    "### Referências: <br>\n",
    "<li> https://blog.softhints.com/pandas-value_counts-multiple-columns/\n",
    "<li> https://towardsdatascience.com/random-forest-in-python-24d0893d51c0\n",
    "<li> https://scikit-learn.org/stable/modules/generated/sklearn.ensemble.RandomForestClassifier.html\n",
    "<li> https://pandas.pydata.org/pandas-docs/stable/index.html\n",
    "<li> https://chrisalbon.com/machine_learning/trees_and_forests/random_forest_classifier_example/"
   ]
  },
  {
   "cell_type": "code",
   "execution_count": null,
   "metadata": {},
   "outputs": [],
   "source": []
  }
 ],
 "metadata": {
  "kernelspec": {
   "display_name": "Python 3",
   "language": "python",
   "name": "python3"
  },
  "language_info": {
   "codemirror_mode": {
    "name": "ipython",
    "version": 3
   },
   "file_extension": ".py",
   "mimetype": "text/x-python",
   "name": "python",
   "nbconvert_exporter": "python",
   "pygments_lexer": "ipython3",
   "version": "3.8.3"
  }
 },
 "nbformat": 4,
 "nbformat_minor": 4
}
