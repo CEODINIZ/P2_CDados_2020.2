{
 "cells": [
  {
   "cell_type": "code",
   "execution_count": 1,
   "metadata": {},
   "outputs": [],
   "source": [
    "import pandas as pd\n",
    "import numpy as np\n",
    "from IPython.display import display\n",
    "from sklearn.model_selection import train_test_split\n",
    "from sklearn.ensemble import RandomForestClassifier\n",
    "from sklearn.tree import DecisionTreeClassifier"
   ]
  },
  {
   "cell_type": "markdown",
   "metadata": {},
   "source": [
    "### Entrega 10/11 - Dataset lido\n",
    "Mínimo esperado: um arquivo do jupyter notebook (.ipynb) com o\n",
    "código que lê o dataset (que também deve ser enviado no git) e realiza limpeza e manipulações necessárias no dataset."
   ]
  },
  {
   "cell_type": "code",
   "execution_count": 2,
   "metadata": {},
   "outputs": [
    {
     "name": "stdout",
     "output_type": "stream",
     "text": [
      "(6497, 14)\n"
     ]
    },
    {
     "data": {
      "text/html": [
       "<div>\n",
       "<style scoped>\n",
       "    .dataframe tbody tr th:only-of-type {\n",
       "        vertical-align: middle;\n",
       "    }\n",
       "\n",
       "    .dataframe tbody tr th {\n",
       "        vertical-align: top;\n",
       "    }\n",
       "\n",
       "    .dataframe thead th {\n",
       "        text-align: right;\n",
       "    }\n",
       "</style>\n",
       "<table border=\"1\" class=\"dataframe\">\n",
       "  <thead>\n",
       "    <tr style=\"text-align: right;\">\n",
       "      <th></th>\n",
       "      <th>fixed.acidity</th>\n",
       "      <th>volatile.acidity</th>\n",
       "      <th>citric.acid</th>\n",
       "      <th>residual.sugar</th>\n",
       "      <th>chlorides</th>\n",
       "      <th>free.sulfur.dioxide</th>\n",
       "      <th>total.sulfur.dioxide</th>\n",
       "      <th>density</th>\n",
       "      <th>pH</th>\n",
       "      <th>sulphates</th>\n",
       "      <th>alcohol</th>\n",
       "      <th>quality</th>\n",
       "      <th>type_Red</th>\n",
       "      <th>type_White</th>\n",
       "    </tr>\n",
       "  </thead>\n",
       "  <tbody>\n",
       "    <tr>\n",
       "      <th>0</th>\n",
       "      <td>7.0</td>\n",
       "      <td>0.27</td>\n",
       "      <td>0.36</td>\n",
       "      <td>20.7</td>\n",
       "      <td>0.045</td>\n",
       "      <td>45.0</td>\n",
       "      <td>170.0</td>\n",
       "      <td>1.0010</td>\n",
       "      <td>3.00</td>\n",
       "      <td>0.45</td>\n",
       "      <td>8.8</td>\n",
       "      <td>6</td>\n",
       "      <td>0</td>\n",
       "      <td>1</td>\n",
       "    </tr>\n",
       "    <tr>\n",
       "      <th>1</th>\n",
       "      <td>6.3</td>\n",
       "      <td>0.30</td>\n",
       "      <td>0.34</td>\n",
       "      <td>1.6</td>\n",
       "      <td>0.049</td>\n",
       "      <td>14.0</td>\n",
       "      <td>132.0</td>\n",
       "      <td>0.9940</td>\n",
       "      <td>3.30</td>\n",
       "      <td>0.49</td>\n",
       "      <td>9.5</td>\n",
       "      <td>6</td>\n",
       "      <td>0</td>\n",
       "      <td>1</td>\n",
       "    </tr>\n",
       "    <tr>\n",
       "      <th>2</th>\n",
       "      <td>8.1</td>\n",
       "      <td>0.28</td>\n",
       "      <td>0.40</td>\n",
       "      <td>6.9</td>\n",
       "      <td>0.050</td>\n",
       "      <td>30.0</td>\n",
       "      <td>97.0</td>\n",
       "      <td>0.9951</td>\n",
       "      <td>3.26</td>\n",
       "      <td>0.44</td>\n",
       "      <td>10.1</td>\n",
       "      <td>6</td>\n",
       "      <td>0</td>\n",
       "      <td>1</td>\n",
       "    </tr>\n",
       "    <tr>\n",
       "      <th>3</th>\n",
       "      <td>7.2</td>\n",
       "      <td>0.23</td>\n",
       "      <td>0.32</td>\n",
       "      <td>8.5</td>\n",
       "      <td>0.058</td>\n",
       "      <td>47.0</td>\n",
       "      <td>186.0</td>\n",
       "      <td>0.9956</td>\n",
       "      <td>3.19</td>\n",
       "      <td>0.40</td>\n",
       "      <td>9.9</td>\n",
       "      <td>6</td>\n",
       "      <td>0</td>\n",
       "      <td>1</td>\n",
       "    </tr>\n",
       "    <tr>\n",
       "      <th>4</th>\n",
       "      <td>7.2</td>\n",
       "      <td>0.23</td>\n",
       "      <td>0.32</td>\n",
       "      <td>8.5</td>\n",
       "      <td>0.058</td>\n",
       "      <td>47.0</td>\n",
       "      <td>186.0</td>\n",
       "      <td>0.9956</td>\n",
       "      <td>3.19</td>\n",
       "      <td>0.40</td>\n",
       "      <td>9.9</td>\n",
       "      <td>6</td>\n",
       "      <td>0</td>\n",
       "      <td>1</td>\n",
       "    </tr>\n",
       "  </tbody>\n",
       "</table>\n",
       "</div>"
      ],
      "text/plain": [
       "   fixed.acidity  volatile.acidity  citric.acid  residual.sugar  chlorides  \\\n",
       "0            7.0              0.27         0.36            20.7      0.045   \n",
       "1            6.3              0.30         0.34             1.6      0.049   \n",
       "2            8.1              0.28         0.40             6.9      0.050   \n",
       "3            7.2              0.23         0.32             8.5      0.058   \n",
       "4            7.2              0.23         0.32             8.5      0.058   \n",
       "\n",
       "   free.sulfur.dioxide  total.sulfur.dioxide  density    pH  sulphates  \\\n",
       "0                 45.0                 170.0   1.0010  3.00       0.45   \n",
       "1                 14.0                 132.0   0.9940  3.30       0.49   \n",
       "2                 30.0                  97.0   0.9951  3.26       0.44   \n",
       "3                 47.0                 186.0   0.9956  3.19       0.40   \n",
       "4                 47.0                 186.0   0.9956  3.19       0.40   \n",
       "\n",
       "   alcohol  quality  type_Red  type_White  \n",
       "0      8.8        6         0           1  \n",
       "1      9.5        6         0           1  \n",
       "2     10.1        6         0           1  \n",
       "3      9.9        6         0           1  \n",
       "4      9.9        6         0           1  "
      ]
     },
     "execution_count": 2,
     "metadata": {},
     "output_type": "execute_result"
    }
   ],
   "source": [
    "data = pd.read_csv(\"wine.csv\", \";\")\n",
    "data = pd.get_dummies(data)\n",
    "\n",
    "print(data.shape)\n",
    "data.head()"
   ]
  },
  {
   "cell_type": "markdown",
   "metadata": {},
   "source": [
    "### Entrega 15/11 - Dataset lido e análise exploratória feita\n",
    "Mínimo esperado: um arquivo do jupyter notebook (.ipynb) com o\n",
    "código que lê o dataset (que também deve ser enviado no git) e faz uma análise exploratória inicial."
   ]
  },
  {
   "cell_type": "code",
   "execution_count": 3,
   "metadata": {
    "scrolled": true
   },
   "outputs": [
    {
     "name": "stdout",
     "output_type": "stream",
     "text": [
      "----------------------------------------fixed.acidity---------------------------------------- - "
     ]
    },
    {
     "data": {
      "text/plain": [
       "6.80     354\n",
       "6.60     327\n",
       "6.40     305\n",
       "7.00     282\n",
       "6.90     279\n",
       "        ... \n",
       "14.30      1\n",
       "15.90      1\n",
       "13.80      1\n",
       "14.20      1\n",
       "6.45       1\n",
       "Name: fixed.acidity, Length: 106, dtype: int64"
      ]
     },
     "metadata": {},
     "output_type": "display_data"
    },
    {
     "name": "stdout",
     "output_type": "stream",
     "text": [
      "----------------------------------------volatile.acidity---------------------------------------- - "
     ]
    },
    {
     "data": {
      "text/plain": [
       "0.280    286\n",
       "0.240    266\n",
       "0.260    256\n",
       "0.250    238\n",
       "0.220    235\n",
       "        ... \n",
       "0.805      1\n",
       "1.130      1\n",
       "1.185      1\n",
       "0.565      1\n",
       "0.865      1\n",
       "Name: volatile.acidity, Length: 187, dtype: int64"
      ]
     },
     "metadata": {},
     "output_type": "display_data"
    },
    {
     "name": "stdout",
     "output_type": "stream",
     "text": [
      "----------------------------------------citric.acid---------------------------------------- - "
     ]
    },
    {
     "data": {
      "text/plain": [
       "0.30    337\n",
       "0.28    301\n",
       "0.32    289\n",
       "0.49    283\n",
       "0.26    257\n",
       "       ... \n",
       "1.66      1\n",
       "0.75      1\n",
       "0.86      1\n",
       "0.99      1\n",
       "1.23      1\n",
       "Name: citric.acid, Length: 89, dtype: int64"
      ]
     },
     "metadata": {},
     "output_type": "display_data"
    },
    {
     "name": "stdout",
     "output_type": "stream",
     "text": [
      "----------------------------------------residual.sugar---------------------------------------- - "
     ]
    },
    {
     "data": {
      "text/plain": [
       "2.00     235\n",
       "1.80     228\n",
       "1.60     223\n",
       "1.40     219\n",
       "1.20     195\n",
       "        ... \n",
       "14.15      1\n",
       "14.05      1\n",
       "3.15       1\n",
       "8.95       1\n",
       "20.30      1\n",
       "Name: residual.sugar, Length: 316, dtype: int64"
      ]
     },
     "metadata": {},
     "output_type": "display_data"
    },
    {
     "name": "stdout",
     "output_type": "stream",
     "text": [
      "----------------------------------------chlorides---------------------------------------- - "
     ]
    },
    {
     "data": {
      "text/plain": [
       "0.044    206\n",
       "0.036    200\n",
       "0.042    187\n",
       "0.046    185\n",
       "0.050    182\n",
       "        ... \n",
       "0.213      1\n",
       "0.165      1\n",
       "0.150      1\n",
       "0.144      1\n",
       "0.125      1\n",
       "Name: chlorides, Length: 214, dtype: int64"
      ]
     },
     "metadata": {},
     "output_type": "display_data"
    },
    {
     "name": "stdout",
     "output_type": "stream",
     "text": [
      "----------------------------------------free.sulfur.dioxide---------------------------------------- - "
     ]
    },
    {
     "data": {
      "text/plain": [
       "29.0     183\n",
       "6.0      170\n",
       "26.0     161\n",
       "15.0     157\n",
       "24.0     152\n",
       "        ... \n",
       "122.5      1\n",
       "5.5        1\n",
       "112.0      1\n",
       "128.0      1\n",
       "118.5      1\n",
       "Name: free.sulfur.dioxide, Length: 135, dtype: int64"
      ]
     },
     "metadata": {},
     "output_type": "display_data"
    },
    {
     "name": "stdout",
     "output_type": "stream",
     "text": [
      "----------------------------------------total.sulfur.dioxide---------------------------------------- - "
     ]
    },
    {
     "data": {
      "text/plain": [
       "111.0    72\n",
       "113.0    65\n",
       "122.0    57\n",
       "117.0    57\n",
       "124.0    56\n",
       "         ..\n",
       "303.0     1\n",
       "344.0     1\n",
       "115.5     1\n",
       "294.0     1\n",
       "366.5     1\n",
       "Name: total.sulfur.dioxide, Length: 276, dtype: int64"
      ]
     },
     "metadata": {},
     "output_type": "display_data"
    },
    {
     "name": "stdout",
     "output_type": "stream",
     "text": [
      "----------------------------------------density---------------------------------------- - "
     ]
    },
    {
     "data": {
      "text/plain": [
       "0.99760    69\n",
       "0.99720    69\n",
       "0.99800    64\n",
       "0.99200    64\n",
       "0.99280    63\n",
       "           ..\n",
       "0.99483     1\n",
       "0.98947     1\n",
       "0.99837     1\n",
       "0.99511     1\n",
       "0.98923     1\n",
       "Name: density, Length: 998, dtype: int64"
      ]
     },
     "metadata": {},
     "output_type": "display_data"
    },
    {
     "name": "stdout",
     "output_type": "stream",
     "text": [
      "----------------------------------------pH---------------------------------------- - "
     ]
    },
    {
     "data": {
      "text/plain": [
       "3.16    200\n",
       "3.14    193\n",
       "3.22    185\n",
       "3.20    176\n",
       "3.19    170\n",
       "       ... \n",
       "3.81      1\n",
       "2.77      1\n",
       "3.82      1\n",
       "2.84      1\n",
       "2.82      1\n",
       "Name: pH, Length: 108, dtype: int64"
      ]
     },
     "metadata": {},
     "output_type": "display_data"
    },
    {
     "name": "stdout",
     "output_type": "stream",
     "text": [
      "----------------------------------------sulphates---------------------------------------- - "
     ]
    },
    {
     "data": {
      "text/plain": [
       "0.50    276\n",
       "0.46    243\n",
       "0.54    235\n",
       "0.44    232\n",
       "0.38    214\n",
       "       ... \n",
       "1.59      1\n",
       "1.12      1\n",
       "1.33      1\n",
       "1.56      1\n",
       "1.62      1\n",
       "Name: sulphates, Length: 111, dtype: int64"
      ]
     },
     "metadata": {},
     "output_type": "display_data"
    },
    {
     "name": "stdout",
     "output_type": "stream",
     "text": [
      "----------------------------------------alcohol---------------------------------------- - "
     ]
    },
    {
     "data": {
      "text/plain": [
       "9.500000     367\n",
       "9.400000     332\n",
       "9.200000     271\n",
       "10.000000    229\n",
       "10.500000    227\n",
       "            ... \n",
       "10.533333      1\n",
       "12.250000      1\n",
       "10.650000      1\n",
       "9.750000       1\n",
       "11.550000      1\n",
       "Name: alcohol, Length: 111, dtype: int64"
      ]
     },
     "metadata": {},
     "output_type": "display_data"
    },
    {
     "name": "stdout",
     "output_type": "stream",
     "text": [
      "----------------------------------------quality---------------------------------------- - "
     ]
    },
    {
     "data": {
      "text/plain": [
       "6    2836\n",
       "5    2138\n",
       "7    1079\n",
       "4     216\n",
       "8     193\n",
       "3      30\n",
       "9       5\n",
       "Name: quality, dtype: int64"
      ]
     },
     "metadata": {},
     "output_type": "display_data"
    },
    {
     "name": "stdout",
     "output_type": "stream",
     "text": [
      "----------------------------------------type_Red---------------------------------------- - "
     ]
    },
    {
     "data": {
      "text/plain": [
       "0    4898\n",
       "1    1599\n",
       "Name: type_Red, dtype: int64"
      ]
     },
     "metadata": {},
     "output_type": "display_data"
    },
    {
     "name": "stdout",
     "output_type": "stream",
     "text": [
      "----------------------------------------type_White---------------------------------------- - "
     ]
    },
    {
     "data": {
      "text/plain": [
       "1    4898\n",
       "0    1599\n",
       "Name: type_White, dtype: int64"
      ]
     },
     "metadata": {},
     "output_type": "display_data"
    }
   ],
   "source": [
    "for col in data.columns:\n",
    "    print('-' * 40 + col + '-' * 40 , end=' - ')\n",
    "    display(data[col].value_counts())"
   ]
  },
  {
   "cell_type": "markdown",
   "metadata": {},
   "source": [
    "A variável target escolhida é \"quality\" para descobrir qual é a qualidade do vinho analisado. As outras vão ser consideradas features."
   ]
  },
  {
   "cell_type": "markdown",
   "metadata": {},
   "source": [
    "### Preparação dos dados\n",
    "Usando numpy, é possível separar o target dos features e simplificar o processo do algoritmo de machine learning escolhido."
   ]
  },
  {
   "cell_type": "code",
   "execution_count": 4,
   "metadata": {},
   "outputs": [
    {
     "name": "stdout",
     "output_type": "stream",
     "text": [
      "(6497,)\n",
      "(6497, 13)\n"
     ]
    }
   ],
   "source": [
    "target = data[\"quality\"]\n",
    "\n",
    "features = data.drop(\"quality\", axis = 1)\n",
    "\n",
    "print(target.shape)\n",
    "print(features.shape)"
   ]
  },
  {
   "cell_type": "markdown",
   "metadata": {},
   "source": [
    "### Separando dos dados em treinamento e teste"
   ]
  },
  {
   "cell_type": "code",
   "execution_count": 5,
   "metadata": {},
   "outputs": [],
   "source": [
    "trn_features, tst_features, trn_target, tst_target = train_test_split(features, target, test_size = 0.3)"
   ]
  },
  {
   "cell_type": "markdown",
   "metadata": {},
   "source": [
    "### Treinando o 1° modelo\n",
    "O primeiro modelo escolhido é o Random Forest"
   ]
  },
  {
   "cell_type": "code",
   "execution_count": 6,
   "metadata": {},
   "outputs": [],
   "source": [
    "# O modelo vai ser iniciado com 1000 árvores\n",
    "rf = RandomForestClassifier(oob_score = True, n_estimators = 1000, max_features = 5, n_jobs=-1, criterion = \"entropy\")\n",
    "rf.fit(trn_features, trn_target);"
   ]
  },
  {
   "cell_type": "markdown",
   "metadata": {},
   "source": [
    "### Testando o 1° modelo"
   ]
  },
  {
   "cell_type": "code",
   "execution_count": 7,
   "metadata": {},
   "outputs": [
    {
     "name": "stdout",
     "output_type": "stream",
     "text": [
      "Prediction prob: 14.29 %\n",
      "Mean Absolute Error: 31.85 %\n"
     ]
    },
    {
     "data": {
      "text/html": [
       "<div>\n",
       "<style scoped>\n",
       "    .dataframe tbody tr th:only-of-type {\n",
       "        vertical-align: middle;\n",
       "    }\n",
       "\n",
       "    .dataframe tbody tr th {\n",
       "        vertical-align: top;\n",
       "    }\n",
       "\n",
       "    .dataframe thead th {\n",
       "        text-align: right;\n",
       "    }\n",
       "</style>\n",
       "<table border=\"1\" class=\"dataframe\">\n",
       "  <thead>\n",
       "    <tr style=\"text-align: right;\">\n",
       "      <th>Predicted Preference</th>\n",
       "      <th>4</th>\n",
       "      <th>5</th>\n",
       "      <th>6</th>\n",
       "      <th>7</th>\n",
       "      <th>8</th>\n",
       "    </tr>\n",
       "    <tr>\n",
       "      <th>Actual Preference</th>\n",
       "      <th></th>\n",
       "      <th></th>\n",
       "      <th></th>\n",
       "      <th></th>\n",
       "      <th></th>\n",
       "    </tr>\n",
       "  </thead>\n",
       "  <tbody>\n",
       "    <tr>\n",
       "      <th>3</th>\n",
       "      <td>0</td>\n",
       "      <td>6</td>\n",
       "      <td>3</td>\n",
       "      <td>0</td>\n",
       "      <td>0</td>\n",
       "    </tr>\n",
       "    <tr>\n",
       "      <th>4</th>\n",
       "      <td>9</td>\n",
       "      <td>25</td>\n",
       "      <td>14</td>\n",
       "      <td>1</td>\n",
       "      <td>0</td>\n",
       "    </tr>\n",
       "    <tr>\n",
       "      <th>5</th>\n",
       "      <td>2</td>\n",
       "      <td>481</td>\n",
       "      <td>181</td>\n",
       "      <td>2</td>\n",
       "      <td>0</td>\n",
       "    </tr>\n",
       "    <tr>\n",
       "      <th>6</th>\n",
       "      <td>2</td>\n",
       "      <td>140</td>\n",
       "      <td>663</td>\n",
       "      <td>48</td>\n",
       "      <td>0</td>\n",
       "    </tr>\n",
       "    <tr>\n",
       "      <th>7</th>\n",
       "      <td>0</td>\n",
       "      <td>5</td>\n",
       "      <td>144</td>\n",
       "      <td>160</td>\n",
       "      <td>2</td>\n",
       "    </tr>\n",
       "    <tr>\n",
       "      <th>8</th>\n",
       "      <td>0</td>\n",
       "      <td>1</td>\n",
       "      <td>26</td>\n",
       "      <td>17</td>\n",
       "      <td>16</td>\n",
       "    </tr>\n",
       "    <tr>\n",
       "      <th>9</th>\n",
       "      <td>0</td>\n",
       "      <td>0</td>\n",
       "      <td>1</td>\n",
       "      <td>1</td>\n",
       "      <td>0</td>\n",
       "    </tr>\n",
       "  </tbody>\n",
       "</table>\n",
       "</div>"
      ],
      "text/plain": [
       "Predicted Preference  4    5    6    7   8\n",
       "Actual Preference                         \n",
       "3                     0    6    3    0   0\n",
       "4                     9   25   14    1   0\n",
       "5                     2  481  181    2   0\n",
       "6                     2  140  663   48   0\n",
       "7                     0    5  144  160   2\n",
       "8                     0    1   26   17  16\n",
       "9                     0    0    1    1   0"
      ]
     },
     "execution_count": 7,
     "metadata": {},
     "output_type": "execute_result"
    }
   ],
   "source": [
    "# Probabilidade das previsões do modelo\n",
    "predictions_prob_rf = rf.predict_proba(tst_features)\n",
    "predictions_rf = rf.predict(tst_features)\n",
    "\n",
    "error_rf = 1 - rf.score(tst_features, tst_target)\n",
    "\n",
    "# Erro total de classificação\n",
    "print('Prediction prob:',round(np.mean(predictions_prob_rf),4)*100, \"%\")\n",
    "print('Mean Absolute Error:', round(error_rf,4)*100, \"%\")\n",
    "\n",
    "# Matriz de confusão\n",
    "pd.crosstab(tst_target, predictions_rf, rownames=['Actual Preference'], colnames=['Predicted Preference'])"
   ]
  },
  {
   "cell_type": "markdown",
   "metadata": {},
   "source": [
    "### Treinando o 2° modelo\n",
    "O segundo modelo escolhido foi o Decision Tree."
   ]
  },
  {
   "cell_type": "code",
   "execution_count": 8,
   "metadata": {},
   "outputs": [
    {
     "data": {
      "text/plain": [
       "DecisionTreeClassifier()"
      ]
     },
     "execution_count": 8,
     "metadata": {},
     "output_type": "execute_result"
    }
   ],
   "source": [
    "clf = DecisionTreeClassifier()\n",
    "\n",
    "clf.fit(trn_features, trn_target)"
   ]
  },
  {
   "cell_type": "markdown",
   "metadata": {},
   "source": [
    "### Testando o 2° modelo"
   ]
  },
  {
   "cell_type": "code",
   "execution_count": 9,
   "metadata": {
    "scrolled": false
   },
   "outputs": [
    {
     "name": "stdout",
     "output_type": "stream",
     "text": [
      "Erro de classificação:  40.97435897435897 %\n"
     ]
    },
    {
     "data": {
      "text/html": [
       "<div>\n",
       "<style scoped>\n",
       "    .dataframe tbody tr th:only-of-type {\n",
       "        vertical-align: middle;\n",
       "    }\n",
       "\n",
       "    .dataframe tbody tr th {\n",
       "        vertical-align: top;\n",
       "    }\n",
       "\n",
       "    .dataframe thead th {\n",
       "        text-align: right;\n",
       "    }\n",
       "</style>\n",
       "<table border=\"1\" class=\"dataframe\">\n",
       "  <thead>\n",
       "    <tr style=\"text-align: right;\">\n",
       "      <th>Predicted Preference</th>\n",
       "      <th>3</th>\n",
       "      <th>4</th>\n",
       "      <th>5</th>\n",
       "      <th>6</th>\n",
       "      <th>7</th>\n",
       "      <th>8</th>\n",
       "      <th>9</th>\n",
       "    </tr>\n",
       "    <tr>\n",
       "      <th>Actual Preference</th>\n",
       "      <th></th>\n",
       "      <th></th>\n",
       "      <th></th>\n",
       "      <th></th>\n",
       "      <th></th>\n",
       "      <th></th>\n",
       "      <th></th>\n",
       "    </tr>\n",
       "  </thead>\n",
       "  <tbody>\n",
       "    <tr>\n",
       "      <th>3</th>\n",
       "      <td>0</td>\n",
       "      <td>2</td>\n",
       "      <td>4</td>\n",
       "      <td>2</td>\n",
       "      <td>1</td>\n",
       "      <td>0</td>\n",
       "      <td>0</td>\n",
       "    </tr>\n",
       "    <tr>\n",
       "      <th>4</th>\n",
       "      <td>1</td>\n",
       "      <td>16</td>\n",
       "      <td>14</td>\n",
       "      <td>14</td>\n",
       "      <td>2</td>\n",
       "      <td>2</td>\n",
       "      <td>0</td>\n",
       "    </tr>\n",
       "    <tr>\n",
       "      <th>5</th>\n",
       "      <td>2</td>\n",
       "      <td>24</td>\n",
       "      <td>428</td>\n",
       "      <td>165</td>\n",
       "      <td>40</td>\n",
       "      <td>3</td>\n",
       "      <td>4</td>\n",
       "    </tr>\n",
       "    <tr>\n",
       "      <th>6</th>\n",
       "      <td>4</td>\n",
       "      <td>11</td>\n",
       "      <td>184</td>\n",
       "      <td>510</td>\n",
       "      <td>120</td>\n",
       "      <td>22</td>\n",
       "      <td>2</td>\n",
       "    </tr>\n",
       "    <tr>\n",
       "      <th>7</th>\n",
       "      <td>0</td>\n",
       "      <td>4</td>\n",
       "      <td>25</td>\n",
       "      <td>85</td>\n",
       "      <td>176</td>\n",
       "      <td>21</td>\n",
       "      <td>0</td>\n",
       "    </tr>\n",
       "    <tr>\n",
       "      <th>8</th>\n",
       "      <td>0</td>\n",
       "      <td>0</td>\n",
       "      <td>4</td>\n",
       "      <td>20</td>\n",
       "      <td>15</td>\n",
       "      <td>21</td>\n",
       "      <td>0</td>\n",
       "    </tr>\n",
       "    <tr>\n",
       "      <th>9</th>\n",
       "      <td>0</td>\n",
       "      <td>0</td>\n",
       "      <td>0</td>\n",
       "      <td>0</td>\n",
       "      <td>1</td>\n",
       "      <td>1</td>\n",
       "      <td>0</td>\n",
       "    </tr>\n",
       "  </tbody>\n",
       "</table>\n",
       "</div>"
      ],
      "text/plain": [
       "Predicted Preference  3   4    5    6    7   8  9\n",
       "Actual Preference                                \n",
       "3                     0   2    4    2    1   0  0\n",
       "4                     1  16   14   14    2   2  0\n",
       "5                     2  24  428  165   40   3  4\n",
       "6                     4  11  184  510  120  22  2\n",
       "7                     0   4   25   85  176  21  0\n",
       "8                     0   0    4   20   15  21  0\n",
       "9                     0   0    0    0    1   1  0"
      ]
     },
     "execution_count": 9,
     "metadata": {},
     "output_type": "execute_result"
    }
   ],
   "source": [
    "error_clf = 1-clf.score(tst_features, tst_target)\n",
    "print(\"Erro de classificação: \", error_clf*100, \"%\")\n",
    "\n",
    "# Matriz de Confusão\n",
    "predictions_clf = clf.predict(tst_features)\n",
    "\n",
    "pd.crosstab(tst_target, predictions_clf, rownames=['Actual Preference'], colnames=['Predicted Preference'])"
   ]
  },
  {
   "cell_type": "code",
   "execution_count": 10,
   "metadata": {
    "scrolled": true
   },
   "outputs": [
    {
     "data": {
      "text/plain": [
       "'\\nfrom matplotlib import pyplot as plt\\nfrom sklearn import tree\\nfig = plt.figure(figsize=(25,20))\\n_ = tree.plot_tree(clf, \\n                   feature_names=feature_list,  \\n                   filled=True)\\n'"
      ]
     },
     "execution_count": 10,
     "metadata": {},
     "output_type": "execute_result"
    }
   ],
   "source": [
    "'''\n",
    "from matplotlib import pyplot as plt\n",
    "from sklearn import tree\n",
    "fig = plt.figure(figsize=(25,20))\n",
    "_ = tree.plot_tree(clf, \n",
    "                   feature_names=feature_list,  \n",
    "                   filled=True)\n",
    "'''"
   ]
  },
  {
   "cell_type": "markdown",
   "metadata": {},
   "source": [
    "### Referências: <br>\n",
    "<li> https://blog.softhints.com/pandas-value_counts-multiple-columns/\n",
    "<li> https://towardsdatascience.com/random-forest-in-python-24d0893d51c0\n",
    "<li> https://scikit-learn.org/stable/modules/generated/sklearn.ensemble.RandomForestClassifier.html\n",
    "<li> https://pandas.pydata.org/pandas-docs/stable/index.html\n",
    "<li> https://chrisalbon.com/machine_learning/trees_and_forests/random_forest_classifier_example/\n",
    "<li> https://www.python-course.eu/Boosting.php\n",
    "<li> https://scikit-learn.org/stable/modules/generated/sklearn.ensemble.AdaBoostClassifier.html\n",
    "<li> https://medium.com/turo-engineering/how-not-to-use-random-forest-265a19a68576\n",
    "<li> https://stackoverflow.com/questions/38195766/poor-performance-of-randomforestclassifier\n",
    "<li> https://www.kaggle.com/c/forest-cover-type-prediction/notebooks\n",
    "<li> https://scikit-learn.org/stable/modules/generated/sklearn.neighbors.KNeighborsClassifier.html\n",
    "<li> https://www.datacamp.com/community/tutorials/random-forests-classifier-python\n",
    "<li> https://scikit-learn.org/stable/modules/generated/sklearn.ensemble.ExtraTreesClassifier.html#sklearn.ensemble.ExtraTreesClassifier"
   ]
  },
  {
   "cell_type": "code",
   "execution_count": null,
   "metadata": {},
   "outputs": [],
   "source": []
  }
 ],
 "metadata": {
  "kernelspec": {
   "display_name": "Python 3",
   "language": "python",
   "name": "python3"
  },
  "language_info": {
   "codemirror_mode": {
    "name": "ipython",
    "version": 3
   },
   "file_extension": ".py",
   "mimetype": "text/x-python",
   "name": "python",
   "nbconvert_exporter": "python",
   "pygments_lexer": "ipython3",
   "version": "3.8.3"
  }
 },
 "nbformat": 4,
 "nbformat_minor": 4
}
